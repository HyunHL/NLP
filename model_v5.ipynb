{
 "cells": [
  {
   "cell_type": "code",
   "execution_count": 17,
   "id": "d0759b65",
   "metadata": {},
   "outputs": [],
   "source": [
    "import pandas as pd\n",
    "import numpy as np\n",
    "from datasets import Dataset\n",
    "from sklearn.model_selection import train_test_split\n",
    "from transformers import (\n",
    "    AutoTokenizer, \n",
    "    AutoModelForSequenceClassification, \n",
    "    TrainingArguments, \n",
    "    Trainer,\n",
    "    DataCollatorWithPadding\n",
    ")\n",
    "from sklearn.metrics import classification_report, confusion_matrix\n",
    "import matplotlib.pyplot as plt\n",
    "import seaborn as sns\n",
    "import json\n",
    "import os\n"
   ]
  },
  {
   "cell_type": "code",
   "execution_count": 18,
   "id": "b5afe919",
   "metadata": {},
   "outputs": [
    {
     "data": {
      "text/html": [
       "<div>\n",
       "<style scoped>\n",
       "    .dataframe tbody tr th:only-of-type {\n",
       "        vertical-align: middle;\n",
       "    }\n",
       "\n",
       "    .dataframe tbody tr th {\n",
       "        vertical-align: top;\n",
       "    }\n",
       "\n",
       "    .dataframe thead th {\n",
       "        text-align: right;\n",
       "    }\n",
       "</style>\n",
       "<table border=\"1\" class=\"dataframe\">\n",
       "  <thead>\n",
       "    <tr style=\"text-align: right;\">\n",
       "      <th></th>\n",
       "      <th>patient_id</th>\n",
       "      <th>description</th>\n",
       "      <th>triage_level</th>\n",
       "    </tr>\n",
       "  </thead>\n",
       "  <tbody>\n",
       "    <tr>\n",
       "      <th>0</th>\n",
       "      <td>P00001</td>\n",
       "      <td>Severe persistent trauma noted after a fall.</td>\n",
       "      <td>2</td>\n",
       "    </tr>\n",
       "    <tr>\n",
       "      <th>1</th>\n",
       "      <td>P00002</td>\n",
       "      <td>moderate seizure observed during daily activit...</td>\n",
       "      <td>2</td>\n",
       "    </tr>\n",
       "    <tr>\n",
       "      <th>2</th>\n",
       "      <td>P00003</td>\n",
       "      <td>mild shortness of breath was triggered by stre...</td>\n",
       "      <td>1</td>\n",
       "    </tr>\n",
       "    <tr>\n",
       "      <th>3</th>\n",
       "      <td>P00004</td>\n",
       "      <td>Mild mild sore throat reported with no other s...</td>\n",
       "      <td>4</td>\n",
       "    </tr>\n",
       "    <tr>\n",
       "      <th>4</th>\n",
       "      <td>P00005</td>\n",
       "      <td>Severe moderate chest pain noted after a fall.</td>\n",
       "      <td>1</td>\n",
       "    </tr>\n",
       "  </tbody>\n",
       "</table>\n",
       "</div>"
      ],
      "text/plain": [
       "  patient_id                                        description  triage_level\n",
       "0     P00001       Severe persistent trauma noted after a fall.             2\n",
       "1     P00002  moderate seizure observed during daily activit...             2\n",
       "2     P00003  mild shortness of breath was triggered by stre...             1\n",
       "3     P00004  Mild mild sore throat reported with no other s...             4\n",
       "4     P00005     Severe moderate chest pain noted after a fall.             1"
      ]
     },
     "execution_count": 18,
     "metadata": {},
     "output_type": "execute_result"
    }
   ],
   "source": [
    "csv_path = \"dummy_emergency_patients_flexible_2500.csv\"  \n",
    "df = pd.read_csv(csv_path)\n",
    "df.head()\n"
   ]
  },
  {
   "cell_type": "code",
   "execution_count": 19,
   "id": "734787b4",
   "metadata": {},
   "outputs": [
    {
     "name": "stdout",
     "output_type": "stream",
     "text": [
      "Duplicated description removed and shuffled\n"
     ]
    }
   ],
   "source": [
    "# remove duplicated description\n",
    "df_unique = df.drop_duplicates(subset=\"description\").reset_index(drop=True)\n",
    "\n",
    "# stratified split\n",
    "from sklearn.model_selection import train_test_split\n",
    "train_df, test_df = train_test_split(\n",
    "    df_unique, \n",
    "    test_size=0.2, \n",
    "    stratify=df_unique[\"triage_level\"], \n",
    "    random_state=42\n",
    ")\n",
    "\n",
    "# shuffle\n",
    "train_df = train_df.sample(frac=1, random_state=42).reset_index(drop=True)\n",
    "test_df = test_df.reset_index(drop=True)\n",
    "\n",
    "print(\"Duplicated description removed and shuffled\")\n"
   ]
  },
  {
   "cell_type": "code",
   "execution_count": 20,
   "id": "c749a4c8",
   "metadata": {},
   "outputs": [
    {
     "name": "stdout",
     "output_type": "stream",
     "text": [
      "📄 Original dataset size: 2500\n",
      "✅ After removing duplicates: 2500\n",
      "❌ Number of duplicate descriptions removed: 0\n"
     ]
    }
   ],
   "source": [
    "# Calculate how many rows were removed due to duplicate descriptions\n",
    "original_count = len(df)\n",
    "unique_count = len(df_unique)\n",
    "removed_count = original_count - unique_count\n",
    "\n",
    "print(f\"📄 Original dataset size: {original_count}\")\n",
    "print(f\"✅ After removing duplicates: {unique_count}\")\n",
    "print(f\"❌ Number of duplicate descriptions removed: {removed_count}\")\n"
   ]
  },
  {
   "cell_type": "code",
   "execution_count": 21,
   "id": "b6e66eb0",
   "metadata": {},
   "outputs": [
    {
     "name": "stderr",
     "output_type": "stream",
     "text": [
      "Map:   0%|          | 0/2000 [00:00<?, ? examples/s]"
     ]
    },
    {
     "name": "stderr",
     "output_type": "stream",
     "text": [
      "Map: 100%|██████████| 2000/2000 [00:00<00:00, 14493.10 examples/s]\n",
      "Map: 100%|██████████| 500/500 [00:00<00:00, 20832.98 examples/s]\n"
     ]
    }
   ],
   "source": [
    "from datasets import Dataset\n",
    "\n",
    "train_dataset = Dataset.from_pandas(train_df)\n",
    "test_dataset = Dataset.from_pandas(test_df)\n",
    "\n",
    "unique_labels = sorted(df_unique[\"triage_level\"].unique())\n",
    "label2id = {int(lvl): i for i, lvl in enumerate(unique_labels)}\n",
    "id2label = {i: str(lvl) for lvl, i in label2id.items()}\n",
    "\n",
    "train_dataset = train_dataset.map(lambda x: {\"label\": label2id[int(x[\"triage_level\"])]})\n",
    "test_dataset = test_dataset.map(lambda x: {\"label\": label2id[int(x[\"triage_level\"])]})\n"
   ]
  },
  {
   "cell_type": "code",
   "execution_count": 22,
   "id": "1091658a",
   "metadata": {},
   "outputs": [
    {
     "name": "stderr",
     "output_type": "stream",
     "text": [
      "c:\\Users\\HYUN\\anaconda3\\envs\\nlp-clean\\lib\\site-packages\\huggingface_hub\\file_download.py:943: FutureWarning: `resume_download` is deprecated and will be removed in version 1.0.0. Downloads always resume when possible. If you want to force a new download, use `force_download=True`.\n",
      "  warnings.warn(\n",
      "Map: 100%|██████████| 2000/2000 [00:00<00:00, 16260.36 examples/s]\n",
      "Map: 100%|██████████| 500/500 [00:00<00:00, 13159.01 examples/s]\n",
      "Some weights of BertForSequenceClassification were not initialized from the model checkpoint at emilyalsentzer/Bio_ClinicalBERT and are newly initialized: ['classifier.bias', 'classifier.weight']\n",
      "You should probably TRAIN this model on a down-stream task to be able to use it for predictions and inference.\n"
     ]
    }
   ],
   "source": [
    "model_name = \"emilyalsentzer/Bio_ClinicalBERT\"\n",
    "tokenizer = AutoTokenizer.from_pretrained(model_name)\n",
    "\n",
    "def tokenize_function(example):\n",
    "    return tokenizer(\n",
    "        example[\"description\"],\n",
    "        padding=\"max_length\",\n",
    "        truncation=True,\n",
    "        max_length=64\n",
    "    )\n",
    "\n",
    "train_dataset = train_dataset.map(tokenize_function, batched=True)\n",
    "test_dataset = test_dataset.map(tokenize_function, batched=True)\n",
    "\n",
    "model = AutoModelForSequenceClassification.from_pretrained(\n",
    "    model_name,\n",
    "    num_labels=5,\n",
    "    id2label=id2label,\n",
    "    label2id=label2id\n",
    ")\n"
   ]
  },
  {
   "cell_type": "code",
   "execution_count": 23,
   "id": "f9eaa52c",
   "metadata": {},
   "outputs": [],
   "source": [
    "from transformers import TrainingArguments\n",
    "\n",
    "training_args = TrainingArguments(\n",
    "    output_dir=\"./results_no_save5\",      # Output directory still needed\n",
    "    save_strategy=\"no\",                  # Do not save checkpoints\n",
    "    evaluation_strategy=\"epoch\",         # Keep evaluating (optional)\n",
    "    logging_strategy=\"epoch\",            # Keep logging (optional)\n",
    "    learning_rate=2e-5,\n",
    "    per_device_train_batch_size=8,\n",
    "    per_device_eval_batch_size=8,\n",
    "    num_train_epochs=15,\n",
    "    weight_decay=0.01,\n",
    "    logging_dir=\"./logs_no_save5\",\n",
    "    logging_steps=999999\n",
    ")\n",
    "\n",
    "\n",
    "def compute_metrics(eval_pred):\n",
    "    logits, labels = eval_pred\n",
    "    preds = np.argmax(logits, axis=-1)\n",
    "    report = classification_report(labels, preds, output_dict=True)\n",
    "    return {\n",
    "        \"accuracy\": report[\"accuracy\"],\n",
    "        \"f1\": report[\"weighted avg\"][\"f1-score\"]\n",
    "    }\n",
    "\n",
    "data_collator = DataCollatorWithPadding(tokenizer=tokenizer)\n",
    "\n",
    "trainer = Trainer(\n",
    "    model=model,\n",
    "    args=training_args,\n",
    "    train_dataset=train_dataset,\n",
    "    eval_dataset=test_dataset,\n",
    "    compute_metrics=compute_metrics,\n",
    "    data_collator=data_collator\n",
    ")"
   ]
  },
  {
   "cell_type": "code",
   "execution_count": 24,
   "id": "028d87c0",
   "metadata": {},
   "outputs": [
    {
     "name": "stderr",
     "output_type": "stream",
     "text": [
      "  7%|▋         | 250/3750 [01:07<14:07,  4.13it/s]"
     ]
    },
    {
     "name": "stdout",
     "output_type": "stream",
     "text": [
      "{'loss': 1.0771, 'grad_norm': 13.438589096069336, 'learning_rate': 1.866666666666667e-05, 'epoch': 1.0}\n"
     ]
    },
    {
     "name": "stderr",
     "output_type": "stream",
     "text": [
      "\n",
      "  7%|▋         | 251/3750 [01:10<1:00:33,  1.04s/it]"
     ]
    },
    {
     "name": "stdout",
     "output_type": "stream",
     "text": [
      "{'eval_loss': 0.6403242945671082, 'eval_accuracy': 0.674, 'eval_f1': 0.6744102379437958, 'eval_runtime': 2.616, 'eval_samples_per_second': 191.131, 'eval_steps_per_second': 24.083, 'epoch': 1.0}\n"
     ]
    },
    {
     "name": "stderr",
     "output_type": "stream",
     "text": [
      " 13%|█▎        | 500/3750 [02:15<18:08,  2.99it/s]  "
     ]
    },
    {
     "name": "stdout",
     "output_type": "stream",
     "text": [
      "{'loss': 0.5946, 'grad_norm': 6.351139068603516, 'learning_rate': 1.7333333333333336e-05, 'epoch': 2.0}\n"
     ]
    },
    {
     "name": "stderr",
     "output_type": "stream",
     "text": [
      "\n",
      " 13%|█▎        | 501/3750 [02:18<1:06:39,  1.23s/it]"
     ]
    },
    {
     "name": "stdout",
     "output_type": "stream",
     "text": [
      "{'eval_loss': 0.5069366693496704, 'eval_accuracy': 0.732, 'eval_f1': 0.7348512141836636, 'eval_runtime': 2.877, 'eval_samples_per_second': 173.792, 'eval_steps_per_second': 21.898, 'epoch': 2.0}\n"
     ]
    },
    {
     "name": "stderr",
     "output_type": "stream",
     "text": [
      " 20%|██        | 750/3750 [03:32<18:46,  2.66it/s]  "
     ]
    },
    {
     "name": "stdout",
     "output_type": "stream",
     "text": [
      "{'loss': 0.4961, 'grad_norm': 12.76015853881836, 'learning_rate': 1.6000000000000003e-05, 'epoch': 3.0}\n"
     ]
    },
    {
     "name": "stderr",
     "output_type": "stream",
     "text": [
      "\n",
      " 20%|██        | 751/3750 [03:35<1:01:45,  1.24s/it]"
     ]
    },
    {
     "name": "stdout",
     "output_type": "stream",
     "text": [
      "{'eval_loss': 0.4773751199245453, 'eval_accuracy': 0.748, 'eval_f1': 0.7452736722027304, 'eval_runtime': 2.816, 'eval_samples_per_second': 177.557, 'eval_steps_per_second': 22.372, 'epoch': 3.0}\n"
     ]
    },
    {
     "name": "stderr",
     "output_type": "stream",
     "text": [
      " 27%|██▋       | 1000/3750 [04:52<15:01,  3.05it/s] "
     ]
    },
    {
     "name": "stdout",
     "output_type": "stream",
     "text": [
      "{'loss': 0.4387, 'grad_norm': 6.283099174499512, 'learning_rate': 1.4666666666666666e-05, 'epoch': 4.0}\n"
     ]
    },
    {
     "name": "stderr",
     "output_type": "stream",
     "text": [
      "\n",
      " 27%|██▋       | 1001/3750 [04:55<49:41,  1.08s/it]"
     ]
    },
    {
     "name": "stdout",
     "output_type": "stream",
     "text": [
      "{'eval_loss': 0.5136851072311401, 'eval_accuracy': 0.732, 'eval_f1': 0.7274226153571169, 'eval_runtime': 2.555, 'eval_samples_per_second': 195.695, 'eval_steps_per_second': 24.658, 'epoch': 4.0}\n"
     ]
    },
    {
     "name": "stderr",
     "output_type": "stream",
     "text": [
      " 33%|███▎      | 1250/3750 [05:55<08:55,  4.67it/s]"
     ]
    },
    {
     "name": "stdout",
     "output_type": "stream",
     "text": [
      "{'loss': 0.4144, 'grad_norm': 5.666822910308838, 'learning_rate': 1.3333333333333333e-05, 'epoch': 5.0}\n"
     ]
    },
    {
     "name": "stderr",
     "output_type": "stream",
     "text": [
      "\n",
      " 33%|███▎      | 1251/3750 [05:58<36:41,  1.14it/s]"
     ]
    },
    {
     "name": "stdout",
     "output_type": "stream",
     "text": [
      "{'eval_loss': 0.5590828657150269, 'eval_accuracy': 0.734, 'eval_f1': 0.7309024212774987, 'eval_runtime': 2.186, 'eval_samples_per_second': 228.728, 'eval_steps_per_second': 28.82, 'epoch': 5.0}\n"
     ]
    },
    {
     "name": "stderr",
     "output_type": "stream",
     "text": [
      " 40%|████      | 1500/3750 [06:59<10:04,  3.72it/s]"
     ]
    },
    {
     "name": "stdout",
     "output_type": "stream",
     "text": [
      "{'loss': 0.3994, 'grad_norm': 12.682557106018066, 'learning_rate': 1.2e-05, 'epoch': 6.0}\n"
     ]
    },
    {
     "name": "stderr",
     "output_type": "stream",
     "text": [
      "\n",
      " 40%|████      | 1501/3750 [07:02<39:15,  1.05s/it]"
     ]
    },
    {
     "name": "stdout",
     "output_type": "stream",
     "text": [
      "{'eval_loss': 0.6161565184593201, 'eval_accuracy': 0.72, 'eval_f1': 0.7166681400492307, 'eval_runtime': 2.544, 'eval_samples_per_second': 196.541, 'eval_steps_per_second': 24.764, 'epoch': 6.0}\n"
     ]
    },
    {
     "name": "stderr",
     "output_type": "stream",
     "text": [
      " 47%|████▋     | 1750/3750 [08:13<10:15,  3.25it/s]"
     ]
    },
    {
     "name": "stdout",
     "output_type": "stream",
     "text": [
      "{'loss': 0.3669, 'grad_norm': 2.8686227798461914, 'learning_rate': 1.0666666666666667e-05, 'epoch': 7.0}\n"
     ]
    },
    {
     "name": "stderr",
     "output_type": "stream",
     "text": [
      "\n",
      " 47%|████▋     | 1751/3750 [08:16<33:55,  1.02s/it]"
     ]
    },
    {
     "name": "stdout",
     "output_type": "stream",
     "text": [
      "{'eval_loss': 0.5384199023246765, 'eval_accuracy': 0.742, 'eval_f1': 0.7412163157805092, 'eval_runtime': 2.395, 'eval_samples_per_second': 208.768, 'eval_steps_per_second': 26.305, 'epoch': 7.0}\n"
     ]
    },
    {
     "name": "stderr",
     "output_type": "stream",
     "text": [
      " 53%|█████▎    | 2000/3750 [09:10<06:12,  4.69it/s]"
     ]
    },
    {
     "name": "stdout",
     "output_type": "stream",
     "text": [
      "{'loss': 0.3333, 'grad_norm': 10.356141090393066, 'learning_rate': 9.333333333333334e-06, 'epoch': 8.0}\n"
     ]
    },
    {
     "name": "stderr",
     "output_type": "stream",
     "text": [
      "\n",
      " 53%|█████▎    | 2001/3750 [09:13<28:20,  1.03it/s]"
     ]
    },
    {
     "name": "stdout",
     "output_type": "stream",
     "text": [
      "{'eval_loss': 0.6291120052337646, 'eval_accuracy': 0.732, 'eval_f1': 0.7318149851310255, 'eval_runtime': 2.479, 'eval_samples_per_second': 201.694, 'eval_steps_per_second': 25.413, 'epoch': 8.0}\n"
     ]
    },
    {
     "name": "stderr",
     "output_type": "stream",
     "text": [
      " 60%|██████    | 2250/3750 [10:08<05:49,  4.29it/s]"
     ]
    },
    {
     "name": "stdout",
     "output_type": "stream",
     "text": [
      "{'loss': 0.3076, 'grad_norm': 9.252165794372559, 'learning_rate': 8.000000000000001e-06, 'epoch': 9.0}\n"
     ]
    },
    {
     "name": "stderr",
     "output_type": "stream",
     "text": [
      "\n",
      " 60%|██████    | 2251/3750 [10:10<21:41,  1.15it/s]"
     ]
    },
    {
     "name": "stdout",
     "output_type": "stream",
     "text": [
      "{'eval_loss': 0.7891263365745544, 'eval_accuracy': 0.732, 'eval_f1': 0.730049938446454, 'eval_runtime': 2.111, 'eval_samples_per_second': 236.855, 'eval_steps_per_second': 29.844, 'epoch': 9.0}\n"
     ]
    },
    {
     "name": "stderr",
     "output_type": "stream",
     "text": [
      " 67%|██████▋   | 2500/3750 [11:06<04:18,  4.83it/s]"
     ]
    },
    {
     "name": "stdout",
     "output_type": "stream",
     "text": [
      "{'loss': 0.277, 'grad_norm': 6.04823637008667, 'learning_rate': 6.666666666666667e-06, 'epoch': 10.0}\n"
     ]
    },
    {
     "name": "stderr",
     "output_type": "stream",
     "text": [
      "\n",
      " 67%|██████▋   | 2501/3750 [11:08<21:12,  1.02s/it]"
     ]
    },
    {
     "name": "stdout",
     "output_type": "stream",
     "text": [
      "{'eval_loss': 0.7731626033782959, 'eval_accuracy': 0.732, 'eval_f1': 0.7316249245440472, 'eval_runtime': 2.673, 'eval_samples_per_second': 187.055, 'eval_steps_per_second': 23.569, 'epoch': 10.0}\n"
     ]
    },
    {
     "name": "stderr",
     "output_type": "stream",
     "text": [
      " 73%|███████▎  | 2750/3750 [12:15<05:02,  3.31it/s]"
     ]
    },
    {
     "name": "stdout",
     "output_type": "stream",
     "text": [
      "{'loss': 0.2476, 'grad_norm': 24.9862060546875, 'learning_rate': 5.333333333333334e-06, 'epoch': 11.0}\n"
     ]
    },
    {
     "name": "stderr",
     "output_type": "stream",
     "text": [
      "\n",
      " 73%|███████▎  | 2751/3750 [12:17<18:19,  1.10s/it]"
     ]
    },
    {
     "name": "stdout",
     "output_type": "stream",
     "text": [
      "{'eval_loss': 0.865407407283783, 'eval_accuracy': 0.73, 'eval_f1': 0.728701610522838, 'eval_runtime': 2.603, 'eval_samples_per_second': 192.086, 'eval_steps_per_second': 24.203, 'epoch': 11.0}\n"
     ]
    },
    {
     "name": "stderr",
     "output_type": "stream",
     "text": [
      " 80%|████████  | 3000/3750 [13:24<03:17,  3.79it/s]"
     ]
    },
    {
     "name": "stdout",
     "output_type": "stream",
     "text": [
      "{'loss': 0.2226, 'grad_norm': 1.4562652111053467, 'learning_rate': 4.000000000000001e-06, 'epoch': 12.0}\n"
     ]
    },
    {
     "name": "stderr",
     "output_type": "stream",
     "text": [
      "\n",
      " 80%|████████  | 3001/3750 [13:27<12:10,  1.03it/s]"
     ]
    },
    {
     "name": "stdout",
     "output_type": "stream",
     "text": [
      "{'eval_loss': 0.9564114212989807, 'eval_accuracy': 0.742, 'eval_f1': 0.7416029328655874, 'eval_runtime': 2.342, 'eval_samples_per_second': 213.493, 'eval_steps_per_second': 26.9, 'epoch': 12.0}\n"
     ]
    },
    {
     "name": "stderr",
     "output_type": "stream",
     "text": [
      " 87%|████████▋ | 3250/3750 [14:38<01:51,  4.48it/s]"
     ]
    },
    {
     "name": "stdout",
     "output_type": "stream",
     "text": [
      "{'loss': 0.1913, 'grad_norm': 15.286966323852539, 'learning_rate': 2.666666666666667e-06, 'epoch': 13.0}\n"
     ]
    },
    {
     "name": "stderr",
     "output_type": "stream",
     "text": [
      "\n",
      " 87%|████████▋ | 3251/3750 [14:40<07:17,  1.14it/s]"
     ]
    },
    {
     "name": "stdout",
     "output_type": "stream",
     "text": [
      "{'eval_loss': 1.0091009140014648, 'eval_accuracy': 0.742, 'eval_f1': 0.740827399111527, 'eval_runtime': 2.148, 'eval_samples_per_second': 232.774, 'eval_steps_per_second': 29.33, 'epoch': 13.0}\n"
     ]
    },
    {
     "name": "stderr",
     "output_type": "stream",
     "text": [
      " 93%|█████████▎| 3500/3750 [15:43<01:05,  3.83it/s]"
     ]
    },
    {
     "name": "stdout",
     "output_type": "stream",
     "text": [
      "{'loss': 0.1602, 'grad_norm': 10.227930068969727, 'learning_rate': 1.3333333333333334e-06, 'epoch': 14.0}\n"
     ]
    },
    {
     "name": "stderr",
     "output_type": "stream",
     "text": [
      "\n",
      " 93%|█████████▎| 3501/3750 [15:46<03:48,  1.09it/s]"
     ]
    },
    {
     "name": "stdout",
     "output_type": "stream",
     "text": [
      "{'eval_loss': 1.0800467729568481, 'eval_accuracy': 0.74, 'eval_f1': 0.7395594941284702, 'eval_runtime': 2.167, 'eval_samples_per_second': 230.734, 'eval_steps_per_second': 29.072, 'epoch': 14.0}\n"
     ]
    },
    {
     "name": "stderr",
     "output_type": "stream",
     "text": [
      "100%|██████████| 3750/3750 [16:45<00:00,  4.22it/s]"
     ]
    },
    {
     "name": "stdout",
     "output_type": "stream",
     "text": [
      "{'loss': 0.1518, 'grad_norm': 15.870704650878906, 'learning_rate': 0.0, 'epoch': 15.0}\n"
     ]
    },
    {
     "name": "stderr",
     "output_type": "stream",
     "text": [
      "\n",
      "100%|██████████| 3750/3750 [16:47<00:00,  3.72it/s]"
     ]
    },
    {
     "name": "stdout",
     "output_type": "stream",
     "text": [
      "{'eval_loss': 1.1033267974853516, 'eval_accuracy': 0.732, 'eval_f1': 0.7316277104689092, 'eval_runtime': 2.14, 'eval_samples_per_second': 233.645, 'eval_steps_per_second': 29.439, 'epoch': 15.0}\n",
      "{'train_runtime': 1007.7981, 'train_samples_per_second': 29.768, 'train_steps_per_second': 3.721, 'train_loss': 0.3785737599690755, 'epoch': 15.0}\n"
     ]
    },
    {
     "name": "stderr",
     "output_type": "stream",
     "text": [
      "\n"
     ]
    },
    {
     "data": {
      "text/plain": [
       "TrainOutput(global_step=3750, training_loss=0.3785737599690755, metrics={'train_runtime': 1007.7981, 'train_samples_per_second': 29.768, 'train_steps_per_second': 3.721, 'train_loss': 0.3785737599690755, 'epoch': 15.0})"
      ]
     },
     "execution_count": 24,
     "metadata": {},
     "output_type": "execute_result"
    }
   ],
   "source": [
    "trainer.train()"
   ]
  },
  {
   "cell_type": "code",
   "execution_count": 25,
   "id": "c76e5178",
   "metadata": {},
   "outputs": [
    {
     "name": "stderr",
     "output_type": "stream",
     "text": [
      "100%|██████████| 63/63 [00:02<00:00, 26.39it/s]"
     ]
    },
    {
     "name": "stdout",
     "output_type": "stream",
     "text": [
      "\n",
      " Eval loss (cross-entropy): 1.1033\n"
     ]
    },
    {
     "name": "stderr",
     "output_type": "stream",
     "text": [
      "\n"
     ]
    }
   ],
   "source": [
    "eval_metrics = trainer.evaluate()\n",
    "print(f\"\\n Eval loss (cross-entropy): {eval_metrics['eval_loss']:.4f}\")"
   ]
  },
  {
   "cell_type": "code",
   "execution_count": 26,
   "id": "5124b990",
   "metadata": {},
   "outputs": [
    {
     "name": "stderr",
     "output_type": "stream",
     "text": [
      "100%|██████████| 63/63 [00:02<00:00, 26.07it/s]"
     ]
    },
    {
     "name": "stdout",
     "output_type": "stream",
     "text": [
      "✅ Saved evaluation_metrics.json (including test_loss)\n"
     ]
    },
    {
     "name": "stderr",
     "output_type": "stream",
     "text": [
      "\n"
     ]
    }
   ],
   "source": [
    "from sklearn.metrics import (\n",
    "    classification_report,\n",
    "    confusion_matrix,\n",
    "    accuracy_score,\n",
    "    precision_score,\n",
    "    recall_score,\n",
    "    roc_auc_score,\n",
    "    roc_curve,\n",
    "    auc\n",
    ")\n",
    "from sklearn.preprocessing import label_binarize\n",
    "\n",
    "# Predict\n",
    "preds_output = trainer.predict(test_dataset)\n",
    "preds = np.argmax(preds_output.predictions, axis=1)\n",
    "true = preds_output.label_ids\n",
    "\n",
    "# Label names\n",
    "labels = [f\"Level {id2label[i]}\" for i in range(5)]\n",
    "report = classification_report(true, preds, target_names=labels, output_dict=True)\n",
    "cm = confusion_matrix(true, preds)\n",
    "\n",
    "# Core metrics\n",
    "accuracy = accuracy_score(true, preds)\n",
    "precision = precision_score(true, preds, average=\"macro\")\n",
    "recall = recall_score(true, preds, average=\"macro\")\n",
    "f1 = report[\"weighted avg\"][\"f1-score\"]\n",
    "\n",
    "# ROC-AUC\n",
    "true_binarized = label_binarize(true, classes=list(range(5)))\n",
    "preds_binarized = label_binarize(preds, classes=list(range(5)))\n",
    "roc_auc = roc_auc_score(true_binarized, preds_binarized, average=\"macro\", multi_class=\"ovr\")\n",
    "\n",
    "# Test loss\n",
    "test_loss = preds_output.metrics[\"test_loss\"]\n",
    "\n",
    "# Hyperparameters to record\n",
    "experiment_config = {\n",
    "    \"model_name\": model_name,\n",
    "    \"learning_rate\": training_args.learning_rate,\n",
    "    \"train_batch_size\": training_args.per_device_train_batch_size,\n",
    "    \"eval_batch_size\": training_args.per_device_eval_batch_size,\n",
    "    \"num_epochs\": training_args.num_train_epochs\n",
    "}\n",
    "\n",
    "# ➕ Add all results to JSON\n",
    "report[\"overall\"] = {\n",
    "    \"accuracy\": accuracy,\n",
    "    \"macro_precision\": precision,\n",
    "    \"macro_recall\": recall,\n",
    "    \"f1_score\": f1,\n",
    "    \"roc_auc_macro\": roc_auc,\n",
    "    \"test_loss\": test_loss  \n",
    "}\n",
    "report[\"config\"] = experiment_config\n",
    "\n",
    "# Save as JSON\n",
    "os.makedirs(\"./output\", exist_ok=True)\n",
    "with open(\"./output/evaluation_metrics.json\", \"w\") as f:\n",
    "    json.dump(report, f, indent=4)\n",
    "\n",
    "print(\"✅ Saved evaluation_metrics.json (including test_loss)\")\n"
   ]
  },
  {
   "cell_type": "code",
   "execution_count": 27,
   "id": "7db844d1",
   "metadata": {},
   "outputs": [
    {
     "data": {
      "image/png": "[encoded data removed]",
      "text/plain": [
       "<Figure size 800x700 with 2 Axes>"
      ]
     },
     "metadata": {},
     "output_type": "display_data"
    }
   ],
   "source": [
    "# Plot confusion matrix\n",
    "plt.figure(figsize=(8, 7))\n",
    "sns.heatmap(cm, annot=True, fmt=\"d\", cmap=\"Blues\", xticklabels=labels, yticklabels=labels)\n",
    "plt.title(\"Confusion Matrix\")\n",
    "plt.xlabel(\"Predicted\")\n",
    "plt.ylabel(\"Actual\")\n",
    "plt.tight_layout()\n",
    "plt.savefig(\"./output/confusion_matrix.png\")\n",
    "plt.show()"
   ]
  },
  {
   "cell_type": "code",
   "execution_count": 28,
   "id": "4a88acb6",
   "metadata": {},
   "outputs": [
    {
     "name": "stdout",
     "output_type": "stream",
     "text": [
      "\n",
      "Experiment Configuration:\n",
      "\n",
      "          model_name: emilyalsentzer/Bio_ClinicalBERT\n",
      "       learning_rate: 2e-05\n",
      "    train_batch_size: 8\n",
      "     eval_batch_size: 8\n",
      "          num_epochs: 15\n",
      "\n",
      "Model Evaluation Summary:\n",
      "\n",
      "            accuracy: 0.7320\n",
      "     macro_precision: 0.7282\n",
      "        macro_recall: 0.7243\n",
      "            f1_score: 0.7316\n",
      "       roc_auc_macro: 0.8279\n",
      "           test_loss: 1.1033\n"
     ]
    }
   ],
   "source": [
    "print(\"\\nExperiment Configuration:\\n\")\n",
    "for key, value in report[\"config\"].items():\n",
    "    print(f\"{key:>20}: {value}\")\n",
    "\n",
    "print(\"\\nModel Evaluation Summary:\\n\")\n",
    "overall = report[\"overall\"]\n",
    "for metric, value in overall.items():\n",
    "    print(f\"{metric:>20}: {value:.4f}\")"
   ]
  },
  {
   "cell_type": "code",
   "execution_count": 29,
   "id": "482179f7",
   "metadata": {},
   "outputs": [],
   "source": [
    "# model.save_pretrained(\"./saved_model\")\n",
    "# tokenizer.save_pretrained(\"./saved_tokenizer\")\n"
   ]
  },
  {
   "cell_type": "code",
   "execution_count": 30,
   "id": "b7bd1893",
   "metadata": {},
   "outputs": [
    {
     "data": {
      "image/png": "[encoded data removed]",
      "text/plain": [
       "<Figure size 800x600 with 1 Axes>"
      ]
     },
     "metadata": {},
     "output_type": "display_data"
    }
   ],
   "source": [
    "fpr, tpr, roc_auc_curve = {}, {}, {}\n",
    "\n",
    "for i in range(5):\n",
    "    fpr[i], tpr[i], _ = roc_curve(true_binarized[:, i], preds_binarized[:, i])\n",
    "    roc_auc_curve[i] = auc(fpr[i], tpr[i])\n",
    "\n",
    "plt.figure(figsize=(8, 6))\n",
    "for i in range(5):\n",
    "    plt.plot(fpr[i], tpr[i], label=f\"Level {id2label[i]} (AUC = {roc_auc_curve[i]:.2f})\")\n",
    "plt.plot([0, 1], [0, 1], 'k--', label=\"Chance\")\n",
    "plt.title(\"ROC Curves by Triage Level\")\n",
    "plt.xlabel(\"False Positive Rate\")\n",
    "plt.ylabel(\"True Positive Rate\")\n",
    "plt.legend(loc=\"lower right\")\n",
    "plt.grid(True)\n",
    "plt.tight_layout()\n",
    "plt.savefig(\"./output/roc_curves.png\")\n",
    "plt.show()\n"
   ]
  },
  {
   "cell_type": "code",
   "execution_count": 31,
   "id": "fc8db97a",
   "metadata": {},
   "outputs": [
    {
     "name": "stdout",
     "output_type": "stream",
     "text": [
      "🚨 amount of duplicated description: 0\n"
     ]
    }
   ],
   "source": [
    "intersection = set(train_df['description']).intersection(set(test_df['description']))\n",
    "print(\"🚨 amount of duplicated description:\", len(intersection))\n"
   ]
  },
  {
   "cell_type": "code",
   "execution_count": 32,
   "id": "0ce601c4",
   "metadata": {},
   "outputs": [
    {
     "name": "stdout",
     "output_type": "stream",
     "text": [
      "📊 Label distribution in training set:\n",
      "triage_level\n",
      "1    374\n",
      "2    434\n",
      "3    467\n",
      "4    513\n",
      "5    212\n",
      "Name: count, dtype: int64 \n",
      "\n",
      "📊 Label distribution in test set:\n",
      "triage_level\n",
      "1     93\n",
      "2    108\n",
      "3    117\n",
      "4    129\n",
      "5     53\n",
      "Name: count, dtype: int64 \n",
      "\n"
     ]
    },
    {
     "name": "stderr",
     "output_type": "stream",
     "text": [
      "  0%|          | 0/63 [00:00<?, ?it/s]"
     ]
    },
    {
     "name": "stderr",
     "output_type": "stream",
     "text": [
      "100%|██████████| 63/63 [00:02<00:00, 27.98it/s]\n"
     ]
    },
    {
     "name": "stdout",
     "output_type": "stream",
     "text": [
      "📈 Classification Report:\n",
      "\n",
      "              precision    recall  f1-score   support\n",
      "\n",
      "     Level 1       0.80      0.81      0.80        93\n",
      "     Level 2       0.74      0.69      0.71       108\n",
      "     Level 3       0.73      0.75      0.74       117\n",
      "     Level 4       0.71      0.74      0.72       129\n",
      "     Level 5       0.67      0.64      0.65        53\n",
      "\n",
      "    accuracy                           0.73       500\n",
      "   macro avg       0.73      0.72      0.73       500\n",
      "weighted avg       0.73      0.73      0.73       500\n",
      "\n"
     ]
    },
    {
     "data": {
      "image/png": "[encoded data removed]",
      "text/plain": [
       "<Figure size 600x600 with 2 Axes>"
      ]
     },
     "metadata": {},
     "output_type": "display_data"
    },
    {
     "name": "stdout",
     "output_type": "stream",
     "text": [
      "\n",
      "❌ Top 10 Incorrect Predictions:\n"
     ]
    },
    {
     "data": {
      "text/html": [
       "<div>\n",
       "<style scoped>\n",
       "    .dataframe tbody tr th:only-of-type {\n",
       "        vertical-align: middle;\n",
       "    }\n",
       "\n",
       "    .dataframe tbody tr th {\n",
       "        vertical-align: top;\n",
       "    }\n",
       "\n",
       "    .dataframe thead th {\n",
       "        text-align: right;\n",
       "    }\n",
       "</style>\n",
       "<table border=\"1\" class=\"dataframe\">\n",
       "  <thead>\n",
       "    <tr style=\"text-align: right;\">\n",
       "      <th></th>\n",
       "      <th>description</th>\n",
       "      <th>true_label</th>\n",
       "      <th>predicted_label</th>\n",
       "      <th>confidence</th>\n",
       "    </tr>\n",
       "  </thead>\n",
       "  <tbody>\n",
       "    <tr>\n",
       "      <th>3</th>\n",
       "      <td>Patient reports persistent skin rash after exe...</td>\n",
       "      <td>5</td>\n",
       "      <td>4</td>\n",
       "      <td>5.000209</td>\n",
       "    </tr>\n",
       "    <tr>\n",
       "      <th>6</th>\n",
       "      <td>mild nausea occurred with vomiting and nausea.</td>\n",
       "      <td>3</td>\n",
       "      <td>4</td>\n",
       "      <td>4.946096</td>\n",
       "    </tr>\n",
       "    <tr>\n",
       "      <th>7</th>\n",
       "      <td>persistent headache was triggered by stress at...</td>\n",
       "      <td>4</td>\n",
       "      <td>3</td>\n",
       "      <td>6.466110</td>\n",
       "    </tr>\n",
       "    <tr>\n",
       "      <th>12</th>\n",
       "      <td>intermittent headache started during the night...</td>\n",
       "      <td>4</td>\n",
       "      <td>3</td>\n",
       "      <td>5.324145</td>\n",
       "    </tr>\n",
       "    <tr>\n",
       "      <th>15</th>\n",
       "      <td>Complaint of persistent trauma after exposure ...</td>\n",
       "      <td>1</td>\n",
       "      <td>2</td>\n",
       "      <td>4.477596</td>\n",
       "    </tr>\n",
       "    <tr>\n",
       "      <th>18</th>\n",
       "      <td>Symptoms started with severe abdominal pain an...</td>\n",
       "      <td>4</td>\n",
       "      <td>3</td>\n",
       "      <td>5.416345</td>\n",
       "    </tr>\n",
       "    <tr>\n",
       "      <th>22</th>\n",
       "      <td>mild abdominal pain and dizziness reported tog...</td>\n",
       "      <td>3</td>\n",
       "      <td>4</td>\n",
       "      <td>5.209696</td>\n",
       "    </tr>\n",
       "    <tr>\n",
       "      <th>23</th>\n",
       "      <td>severe trauma following long travel.</td>\n",
       "      <td>2</td>\n",
       "      <td>1</td>\n",
       "      <td>4.707304</td>\n",
       "    </tr>\n",
       "    <tr>\n",
       "      <th>24</th>\n",
       "      <td>Symptoms started with moderate nausea and then...</td>\n",
       "      <td>3</td>\n",
       "      <td>4</td>\n",
       "      <td>3.968037</td>\n",
       "    </tr>\n",
       "    <tr>\n",
       "      <th>26</th>\n",
       "      <td>mild dizziness has interfered with appetite.</td>\n",
       "      <td>3</td>\n",
       "      <td>4</td>\n",
       "      <td>5.067412</td>\n",
       "    </tr>\n",
       "  </tbody>\n",
       "</table>\n",
       "</div>"
      ],
      "text/plain": [
       "                                          description true_label  \\\n",
       "3   Patient reports persistent skin rash after exe...          5   \n",
       "6      mild nausea occurred with vomiting and nausea.          3   \n",
       "7   persistent headache was triggered by stress at...          4   \n",
       "12  intermittent headache started during the night...          4   \n",
       "15  Complaint of persistent trauma after exposure ...          1   \n",
       "18  Symptoms started with severe abdominal pain an...          4   \n",
       "22  mild abdominal pain and dizziness reported tog...          3   \n",
       "23               severe trauma following long travel.          2   \n",
       "24  Symptoms started with moderate nausea and then...          3   \n",
       "26       mild dizziness has interfered with appetite.          3   \n",
       "\n",
       "   predicted_label  confidence  \n",
       "3                4    5.000209  \n",
       "6                4    4.946096  \n",
       "7                3    6.466110  \n",
       "12               3    5.324145  \n",
       "15               2    4.477596  \n",
       "18               3    5.416345  \n",
       "22               4    5.209696  \n",
       "23               1    4.707304  \n",
       "24               4    3.968037  \n",
       "26               4    5.067412  "
      ]
     },
     "metadata": {},
     "output_type": "display_data"
    },
    {
     "name": "stdout",
     "output_type": "stream",
     "text": [
      "\n",
      "🔍 Avg Confidence per True Class:\n",
      "label\n",
      "0    5.838319\n",
      "1    5.521531\n",
      "2    5.796649\n",
      "3    5.196028\n",
      "4    5.119504\n",
      "Name: confidence, dtype: float32\n",
      "\n",
      "🔁 Raw Confusion Matrix:\n"
     ]
    },
    {
     "data": {
      "text/html": [
       "<div>\n",
       "<style scoped>\n",
       "    .dataframe tbody tr th:only-of-type {\n",
       "        vertical-align: middle;\n",
       "    }\n",
       "\n",
       "    .dataframe tbody tr th {\n",
       "        vertical-align: top;\n",
       "    }\n",
       "\n",
       "    .dataframe thead th {\n",
       "        text-align: right;\n",
       "    }\n",
       "</style>\n",
       "<table border=\"1\" class=\"dataframe\">\n",
       "  <thead>\n",
       "    <tr style=\"text-align: right;\">\n",
       "      <th></th>\n",
       "      <th>Pred_1</th>\n",
       "      <th>Pred_2</th>\n",
       "      <th>Pred_3</th>\n",
       "      <th>Pred_4</th>\n",
       "      <th>Pred_5</th>\n",
       "    </tr>\n",
       "  </thead>\n",
       "  <tbody>\n",
       "    <tr>\n",
       "      <th>True_1</th>\n",
       "      <td>75</td>\n",
       "      <td>18</td>\n",
       "      <td>0</td>\n",
       "      <td>0</td>\n",
       "      <td>0</td>\n",
       "    </tr>\n",
       "    <tr>\n",
       "      <th>True_2</th>\n",
       "      <td>19</td>\n",
       "      <td>74</td>\n",
       "      <td>12</td>\n",
       "      <td>3</td>\n",
       "      <td>0</td>\n",
       "    </tr>\n",
       "    <tr>\n",
       "      <th>True_3</th>\n",
       "      <td>0</td>\n",
       "      <td>4</td>\n",
       "      <td>88</td>\n",
       "      <td>21</td>\n",
       "      <td>4</td>\n",
       "    </tr>\n",
       "    <tr>\n",
       "      <th>True_4</th>\n",
       "      <td>0</td>\n",
       "      <td>4</td>\n",
       "      <td>17</td>\n",
       "      <td>95</td>\n",
       "      <td>13</td>\n",
       "    </tr>\n",
       "    <tr>\n",
       "      <th>True_5</th>\n",
       "      <td>0</td>\n",
       "      <td>0</td>\n",
       "      <td>4</td>\n",
       "      <td>15</td>\n",
       "      <td>34</td>\n",
       "    </tr>\n",
       "  </tbody>\n",
       "</table>\n",
       "</div>"
      ],
      "text/plain": [
       "        Pred_1  Pred_2  Pred_3  Pred_4  Pred_5\n",
       "True_1      75      18       0       0       0\n",
       "True_2      19      74      12       3       0\n",
       "True_3       0       4      88      21       4\n",
       "True_4       0       4      17      95      13\n",
       "True_5       0       0       4      15      34"
      ]
     },
     "metadata": {},
     "output_type": "display_data"
    }
   ],
   "source": [
    "import pandas as pd\n",
    "import numpy as np\n",
    "from sklearn.metrics import classification_report, confusion_matrix\n",
    "import matplotlib.pyplot as plt\n",
    "import seaborn as sns\n",
    "\n",
    "# 1. Check label distribution in train/test\n",
    "print(\"📊 Label distribution in training set:\")\n",
    "print(train_df[\"triage_level\"].value_counts().sort_index(), \"\\n\")\n",
    "\n",
    "print(\"📊 Label distribution in test set:\")\n",
    "print(test_df[\"triage_level\"].value_counts().sort_index(), \"\\n\")\n",
    "\n",
    "# 2. Get predictions and labels\n",
    "preds_output = trainer.predict(test_dataset)\n",
    "preds = np.argmax(preds_output.predictions, axis=1)\n",
    "true = preds_output.label_ids\n",
    "probs = np.max(preds_output.predictions, axis=1)\n",
    "\n",
    "# 3. Classification report\n",
    "print(\"📈 Classification Report:\\n\")\n",
    "print(classification_report(true, preds, target_names=[f\"Level {id2label[i]}\" for i in range(5)]))\n",
    "\n",
    "# 4. Confusion matrix\n",
    "cm = confusion_matrix(true, preds)\n",
    "plt.figure(figsize=(6, 6))\n",
    "sns.heatmap(cm, annot=True, fmt=\"d\", cmap=\"Blues\", \n",
    "            xticklabels=[f\"Lvl {id2label[i]}\" for i in range(5)],\n",
    "            yticklabels=[f\"Lvl {id2label[i]}\" for i in range(5)])\n",
    "plt.title(\"Confusion Matrix\")\n",
    "plt.xlabel(\"Predicted\")\n",
    "plt.ylabel(\"Actual\")\n",
    "plt.tight_layout()\n",
    "plt.show()\n",
    "\n",
    "# 5. Analyze incorrect predictions\n",
    "wrong_mask = preds != true\n",
    "wrong_examples = test_df.iloc[wrong_mask]\n",
    "wrong_examples = wrong_examples.copy()\n",
    "wrong_examples[\"true_label\"] = [id2label[i] for i in true[wrong_mask]]\n",
    "wrong_examples[\"predicted_label\"] = [id2label[i] for i in preds[wrong_mask]]\n",
    "wrong_examples[\"confidence\"] = probs[wrong_mask]\n",
    "\n",
    "print(\"\\n❌ Top 10 Incorrect Predictions:\")\n",
    "display(wrong_examples[[\"description\", \"true_label\", \"predicted_label\", \"confidence\"]].head(10))\n",
    "\n",
    "# 6. Average prediction confidence per class\n",
    "conf_df = pd.DataFrame({\"label\": true, \"pred\": preds, \"confidence\": probs})\n",
    "print(\"\\n🔍 Avg Confidence per True Class:\")\n",
    "print(conf_df.groupby(\"label\")[\"confidence\"].mean())\n",
    "\n",
    "# 7. (Optional) Show most confusing class pairs\n",
    "cm_df = pd.DataFrame(cm, columns=[f\"Pred_{id2label[i]}\" for i in range(5)],\n",
    "                        index=[f\"True_{id2label[i]}\" for i in range(5)])\n",
    "print(\"\\n🔁 Raw Confusion Matrix:\")\n",
    "display(cm_df)\n"
   ]
  }
 ],
 "metadata": {
  "kernelspec": {
   "display_name": "nlp-clean",
   "language": "python",
   "name": "python3"
  },
  "language_info": {
   "codemirror_mode": {
    "name": "ipython",
    "version": 3
   },
   "file_extension": ".py",
   "mimetype": "text/x-python",
   "name": "python",
   "nbconvert_exporter": "python",
   "pygments_lexer": "ipython3",
   "version": "3.10.16"
  }
 },
 "nbformat": 4,
 "nbformat_minor": 5
}
