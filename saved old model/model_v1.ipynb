{
 "cells": [
  {
   "cell_type": "code",
   "execution_count": 177,
   "id": "d0759b65",
   "metadata": {},
   "outputs": [],
   "source": [
    "import pandas as pd\n",
    "import numpy as np\n",
    "from datasets import Dataset\n",
    "from sklearn.model_selection import train_test_split\n",
    "from transformers import (\n",
    "    AutoTokenizer, \n",
    "    AutoModelForSequenceClassification, \n",
    "    TrainingArguments, \n",
    "    Trainer,\n",
    "    DataCollatorWithPadding\n",
    ")\n",
    "from sklearn.metrics import classification_report, confusion_matrix\n",
    "import matplotlib.pyplot as plt\n",
    "import seaborn as sns\n",
    "import json\n",
    "import os\n"
   ]
  },
  {
   "cell_type": "code",
   "execution_count": 178,
   "id": "b5afe919",
   "metadata": {},
   "outputs": [
    {
     "data": {
      "text/html": [
       "<div>\n",
       "<style scoped>\n",
       "    .dataframe tbody tr th:only-of-type {\n",
       "        vertical-align: middle;\n",
       "    }\n",
       "\n",
       "    .dataframe tbody tr th {\n",
       "        vertical-align: top;\n",
       "    }\n",
       "\n",
       "    .dataframe thead th {\n",
       "        text-align: right;\n",
       "    }\n",
       "</style>\n",
       "<table border=\"1\" class=\"dataframe\">\n",
       "  <thead>\n",
       "    <tr style=\"text-align: right;\">\n",
       "      <th></th>\n",
       "      <th>patient_id</th>\n",
       "      <th>description</th>\n",
       "      <th>triage_level</th>\n",
       "    </tr>\n",
       "  </thead>\n",
       "  <tbody>\n",
       "    <tr>\n",
       "      <th>0</th>\n",
       "      <td>P00001</td>\n",
       "      <td>Severe persistent trauma noted after a fall.</td>\n",
       "      <td>2</td>\n",
       "    </tr>\n",
       "    <tr>\n",
       "      <th>1</th>\n",
       "      <td>P00002</td>\n",
       "      <td>moderate seizure observed during daily activit...</td>\n",
       "      <td>2</td>\n",
       "    </tr>\n",
       "    <tr>\n",
       "      <th>2</th>\n",
       "      <td>P00003</td>\n",
       "      <td>mild shortness of breath was triggered by stre...</td>\n",
       "      <td>1</td>\n",
       "    </tr>\n",
       "    <tr>\n",
       "      <th>3</th>\n",
       "      <td>P00004</td>\n",
       "      <td>Mild mild sore throat reported with no other s...</td>\n",
       "      <td>4</td>\n",
       "    </tr>\n",
       "    <tr>\n",
       "      <th>4</th>\n",
       "      <td>P00005</td>\n",
       "      <td>Severe moderate chest pain noted after a fall.</td>\n",
       "      <td>1</td>\n",
       "    </tr>\n",
       "  </tbody>\n",
       "</table>\n",
       "</div>"
      ],
      "text/plain": [
       "  patient_id                                        description  triage_level\n",
       "0     P00001       Severe persistent trauma noted after a fall.             2\n",
       "1     P00002  moderate seizure observed during daily activit...             2\n",
       "2     P00003  mild shortness of breath was triggered by stre...             1\n",
       "3     P00004  Mild mild sore throat reported with no other s...             4\n",
       "4     P00005     Severe moderate chest pain noted after a fall.             1"
      ]
     },
     "execution_count": 178,
     "metadata": {},
     "output_type": "execute_result"
    }
   ],
   "source": [
    "csv_path = \"dummy_emergency_patients_flexible_5000.csv\"  \n",
    "df = pd.read_csv(csv_path)\n",
    "df.head()\n"
   ]
  },
  {
   "cell_type": "code",
   "execution_count": 179,
   "id": "734787b4",
   "metadata": {},
   "outputs": [
    {
     "name": "stdout",
     "output_type": "stream",
     "text": [
      "Duplicated description removed and shuffled\n"
     ]
    }
   ],
   "source": [
    "# remove duplicated description\n",
    "df_unique = df.drop_duplicates(subset=\"description\").reset_index(drop=True)\n",
    "\n",
    "# stratified split\n",
    "from sklearn.model_selection import train_test_split\n",
    "train_df, test_df = train_test_split(\n",
    "    df_unique, \n",
    "    test_size=0.2, \n",
    "    stratify=df_unique[\"triage_level\"], \n",
    "    random_state=42\n",
    ")\n",
    "\n",
    "# shuffle\n",
    "train_df = train_df.sample(frac=1, random_state=42).reset_index(drop=True)\n",
    "test_df = test_df.reset_index(drop=True)\n",
    "\n",
    "print(\"Duplicated description removed and shuffled\")\n"
   ]
  },
  {
   "cell_type": "code",
   "execution_count": 180,
   "id": "c749a4c8",
   "metadata": {},
   "outputs": [
    {
     "name": "stdout",
     "output_type": "stream",
     "text": [
      "📄 Original dataset size: 2500\n",
      "✅ After removing duplicates: 2500\n",
      "❌ Number of duplicate descriptions removed: 0\n"
     ]
    }
   ],
   "source": [
    "# Calculate how many rows were removed due to duplicate descriptions\n",
    "original_count = len(df)\n",
    "unique_count = len(df_unique)\n",
    "removed_count = original_count - unique_count\n",
    "\n",
    "print(f\"📄 Original dataset size: {original_count}\")\n",
    "print(f\"✅ After removing duplicates: {unique_count}\")\n",
    "print(f\"❌ Number of duplicate descriptions removed: {removed_count}\")\n"
   ]
  },
  {
   "cell_type": "code",
   "execution_count": 181,
   "id": "b6e66eb0",
   "metadata": {},
   "outputs": [
    {
     "name": "stderr",
     "output_type": "stream",
     "text": [
      "\n",
      "Map: 100%|██████████| 2000/2000 [00:00<00:00, 22222.83 examples/s]\n",
      "\n",
      "Map: 100%|██████████| 500/500 [00:00<00:00, 20000.88 examples/s]\n"
     ]
    }
   ],
   "source": [
    "from datasets import Dataset\n",
    "\n",
    "train_dataset = Dataset.from_pandas(train_df)\n",
    "test_dataset = Dataset.from_pandas(test_df)\n",
    "\n",
    "unique_labels = sorted(df_unique[\"triage_level\"].unique())\n",
    "label2id = {int(lvl): i for i, lvl in enumerate(unique_labels)}\n",
    "id2label = {i: str(lvl) for lvl, i in label2id.items()}\n",
    "\n",
    "train_dataset = train_dataset.map(lambda x: {\"label\": label2id[int(x[\"triage_level\"])]})\n",
    "test_dataset = test_dataset.map(lambda x: {\"label\": label2id[int(x[\"triage_level\"])]})\n"
   ]
  },
  {
   "cell_type": "code",
   "execution_count": 182,
   "id": "1091658a",
   "metadata": {},
   "outputs": [
    {
     "name": "stderr",
     "output_type": "stream",
     "text": [
      "c:\\Users\\HYUN\\anaconda3\\envs\\nlp-clean\\lib\\site-packages\\huggingface_hub\\file_download.py:943: FutureWarning: `resume_download` is deprecated and will be removed in version 1.0.0. Downloads always resume when possible. If you want to force a new download, use `force_download=True`.\n",
      "  warnings.warn(\n",
      "\n",
      "Map: 100%|██████████| 2000/2000 [00:00<00:00, 21505.78 examples/s]\n",
      "\n",
      "Map: 100%|██████████| 500/500 [00:00<00:00, 16667.74 examples/s]\n",
      "Some weights of BertForSequenceClassification were not initialized from the model checkpoint at emilyalsentzer/Bio_ClinicalBERT and are newly initialized: ['classifier.bias', 'classifier.weight']\n",
      "You should probably TRAIN this model on a down-stream task to be able to use it for predictions and inference.\n"
     ]
    }
   ],
   "source": [
    "model_name = \"emilyalsentzer/Bio_ClinicalBERT\"\n",
    "tokenizer = AutoTokenizer.from_pretrained(model_name)\n",
    "\n",
    "def tokenize_function(example):\n",
    "    return tokenizer(\n",
    "        example[\"description\"],\n",
    "        padding=\"max_length\",\n",
    "        truncation=True,\n",
    "        max_length=64\n",
    "    )\n",
    "\n",
    "train_dataset = train_dataset.map(tokenize_function, batched=True)\n",
    "test_dataset = test_dataset.map(tokenize_function, batched=True)\n",
    "\n",
    "model = AutoModelForSequenceClassification.from_pretrained(\n",
    "    model_name,\n",
    "    num_labels=5,\n",
    "    id2label=id2label,\n",
    "    label2id=label2id\n",
    ")\n"
   ]
  },
  {
   "cell_type": "code",
   "execution_count": 183,
   "id": "f9eaa52c",
   "metadata": {},
   "outputs": [],
   "source": [
    "# training_args = TrainingArguments(\n",
    "#     output_dir=\"./results\",\n",
    "#     evaluation_strategy=\"epoch\",\n",
    "#     save_strategy=\"epoch\",\n",
    "#     learning_rate=5e-5,\n",
    "#     per_device_train_batch_size=16,\n",
    "#     per_device_eval_batch_size=16,\n",
    "#     num_train_epochs=15,\n",
    "#     weight_decay=0.01,\n",
    "#     logging_dir=\"./logs\",\n",
    "# )\n",
    "\n",
    "from transformers import TrainingArguments\n",
    "\n",
    "training_args = TrainingArguments(\n",
    "    output_dir=\"./results_no_save\",      # Output directory still needed\n",
    "    save_strategy=\"no\",                  # Do not save checkpoints\n",
    "    evaluation_strategy=\"epoch\",         # Keep evaluating (optional)\n",
    "    logging_strategy=\"epoch\",            # Keep logging (optional)\n",
    "    learning_rate=3e-5,\n",
    "    per_device_train_batch_size=16,\n",
    "    per_device_eval_batch_size=16,\n",
    "    num_train_epochs=10,\n",
    "    weight_decay=0.01,\n",
    "    logging_dir=\"./logs_no_save\",\n",
    "    logging_steps=999999\n",
    ")\n",
    "\n",
    "\n",
    "def compute_metrics(eval_pred):\n",
    "    logits, labels = eval_pred\n",
    "    preds = np.argmax(logits, axis=-1)\n",
    "    report = classification_report(labels, preds, output_dict=True)\n",
    "    return {\n",
    "        \"accuracy\": report[\"accuracy\"],\n",
    "        \"f1\": report[\"weighted avg\"][\"f1-score\"]\n",
    "    }\n",
    "\n",
    "data_collator = DataCollatorWithPadding(tokenizer=tokenizer)\n",
    "\n",
    "trainer = Trainer(\n",
    "    model=model,\n",
    "    args=training_args,\n",
    "    train_dataset=train_dataset,\n",
    "    eval_dataset=test_dataset,\n",
    "    compute_metrics=compute_metrics,\n",
    "    data_collator=data_collator\n",
    ")"
   ]
  },
  {
   "cell_type": "code",
   "execution_count": 184,
   "id": "028d87c0",
   "metadata": {},
   "outputs": [
    {
     "name": "stderr",
     "output_type": "stream",
     "text": [
      " 40%|████      | 301/750 [10:14<15:16,  2.04s/it]\n",
      "                                                  \n",
      " 10%|█         | 125/1250 [00:26<04:05,  4.58it/s] "
     ]
    },
    {
     "name": "stdout",
     "output_type": "stream",
     "text": [
      "{'loss': 1.1441, 'grad_norm': 4.444862365722656, 'learning_rate': 2.7000000000000002e-05, 'epoch': 1.0}\n"
     ]
    },
    {
     "name": "stderr",
     "output_type": "stream",
     "text": [
      "\n",
      "\u001b[A\n",
      "\u001b[A\n",
      "\u001b[A\n",
      "\u001b[A\n",
      "\u001b[A\n",
      "\u001b[A\n",
      "\u001b[A\n",
      "\u001b[A\n",
      "\u001b[A\n",
      "\u001b[A\n",
      "\u001b[A\n",
      "\u001b[A\n",
      "\u001b[A\n",
      "\u001b[A\n",
      "\u001b[A\n",
      "\n",
      "                                                  \n",
      "\u001b[A                                                \n",
      " 10%|█         | 125/1250 [00:28<04:05,  4.58it/s]\n",
      "\u001b[A"
     ]
    },
    {
     "name": "stdout",
     "output_type": "stream",
     "text": [
      "{'eval_loss': 0.6435165405273438, 'eval_accuracy': 0.69, 'eval_f1': 0.6923976524162038, 'eval_runtime': 2.471, 'eval_samples_per_second': 202.347, 'eval_steps_per_second': 12.95, 'epoch': 1.0}\n"
     ]
    },
    {
     "name": "stderr",
     "output_type": "stream",
     "text": [
      "                                                  \n",
      " 20%|██        | 250/1250 [01:02<03:55,  4.25it/s] "
     ]
    },
    {
     "name": "stdout",
     "output_type": "stream",
     "text": [
      "{'loss': 0.5699, 'grad_norm': 5.121316909790039, 'learning_rate': 2.4e-05, 'epoch': 2.0}\n"
     ]
    },
    {
     "name": "stderr",
     "output_type": "stream",
     "text": [
      "\n",
      "\u001b[A\n",
      "\u001b[A\n",
      "\u001b[A\n",
      "\u001b[A\n",
      "\u001b[A\n",
      "\u001b[A\n",
      "\u001b[A\n",
      "\u001b[A\n",
      "\u001b[A\n",
      "\u001b[A\n",
      "\u001b[A\n",
      "\u001b[A\n",
      "\u001b[A\n",
      "\u001b[A\n",
      "\u001b[A\n",
      "\u001b[A\n",
      "\u001b[A\n",
      "\n",
      "                                                  \n",
      "\u001b[A                                                \n",
      " 20%|██        | 250/1250 [01:05<03:55,  4.25it/s]\n",
      "\u001b[A"
     ]
    },
    {
     "name": "stdout",
     "output_type": "stream",
     "text": [
      "{'eval_loss': 0.48030462861061096, 'eval_accuracy': 0.738, 'eval_f1': 0.7409259683995922, 'eval_runtime': 3.016, 'eval_samples_per_second': 165.783, 'eval_steps_per_second': 10.61, 'epoch': 2.0}\n"
     ]
    },
    {
     "name": "stderr",
     "output_type": "stream",
     "text": [
      "                                                  \n",
      " 30%|███       | 375/1250 [01:38<03:55,  3.71it/s] "
     ]
    },
    {
     "name": "stdout",
     "output_type": "stream",
     "text": [
      "{'loss': 0.4738, 'grad_norm': 5.633702278137207, 'learning_rate': 2.1e-05, 'epoch': 3.0}\n"
     ]
    },
    {
     "name": "stderr",
     "output_type": "stream",
     "text": [
      "\n",
      "\u001b[A\n",
      "\u001b[A\n",
      "\u001b[A\n",
      "\u001b[A\n",
      "\u001b[A\n",
      "\u001b[A\n",
      "\u001b[A\n",
      "\u001b[A\n",
      "\u001b[A\n",
      "\u001b[A\n",
      "\u001b[A\n",
      "\u001b[A\n",
      "\u001b[A\n",
      "\u001b[A\n",
      "\u001b[A\n",
      "\u001b[A\n",
      "\n",
      "                                                  \n",
      "\u001b[A                                                \n",
      " 30%|███       | 375/1250 [01:41<03:55,  3.71it/s]\n",
      "\u001b[A"
     ]
    },
    {
     "name": "stdout",
     "output_type": "stream",
     "text": [
      "{'eval_loss': 0.4895530045032501, 'eval_accuracy': 0.74, 'eval_f1': 0.7369866126708968, 'eval_runtime': 2.727, 'eval_samples_per_second': 183.352, 'eval_steps_per_second': 11.735, 'epoch': 3.0}\n"
     ]
    },
    {
     "name": "stderr",
     "output_type": "stream",
     "text": [
      "                                                  \n",
      " 40%|████      | 500/1250 [02:14<03:16,  3.81it/s] "
     ]
    },
    {
     "name": "stdout",
     "output_type": "stream",
     "text": [
      "{'loss': 0.4238, 'grad_norm': 5.618618488311768, 'learning_rate': 1.8e-05, 'epoch': 4.0}\n"
     ]
    },
    {
     "name": "stderr",
     "output_type": "stream",
     "text": [
      "\n",
      "\u001b[A\n",
      "\u001b[A\n",
      "\u001b[A\n",
      "\u001b[A\n",
      "\u001b[A\n",
      "\u001b[A\n",
      "\u001b[A\n",
      "\u001b[A\n",
      "\u001b[A\n",
      "\u001b[A\n",
      "\u001b[A\n",
      "\u001b[A\n",
      "\u001b[A\n",
      "\u001b[A\n",
      "\u001b[A\n",
      "\u001b[A\n",
      "\n",
      "                                                  \n",
      "\u001b[A                                                \n",
      " 40%|████      | 500/1250 [02:17<03:16,  3.81it/s]\n",
      "\u001b[A"
     ]
    },
    {
     "name": "stdout",
     "output_type": "stream",
     "text": [
      "{'eval_loss': 0.4853980839252472, 'eval_accuracy': 0.738, 'eval_f1': 0.7346624712297188, 'eval_runtime': 2.765, 'eval_samples_per_second': 180.832, 'eval_steps_per_second': 11.573, 'epoch': 4.0}\n"
     ]
    },
    {
     "name": "stderr",
     "output_type": "stream",
     "text": [
      "                                                  \n",
      " 50%|█████     | 625/1250 [02:50<02:42,  3.86it/s] "
     ]
    },
    {
     "name": "stdout",
     "output_type": "stream",
     "text": [
      "{'loss': 0.3983, 'grad_norm': 3.8092286586761475, 'learning_rate': 1.5e-05, 'epoch': 5.0}\n"
     ]
    },
    {
     "name": "stderr",
     "output_type": "stream",
     "text": [
      "\n",
      "\u001b[A\n",
      "\u001b[A\n",
      "\u001b[A\n",
      "\u001b[A\n",
      "\u001b[A\n",
      "\u001b[A\n",
      "\u001b[A\n",
      "\u001b[A\n",
      "\u001b[A\n",
      "\u001b[A\n",
      "\u001b[A\n",
      "\u001b[A\n",
      "\u001b[A\n",
      "\u001b[A\n",
      "\u001b[A\n",
      "\u001b[A\n",
      "\n",
      "                                                  \n",
      "\u001b[A                                                \n",
      " 50%|█████     | 625/1250 [02:53<02:42,  3.86it/s]\n",
      "\u001b[A"
     ]
    },
    {
     "name": "stdout",
     "output_type": "stream",
     "text": [
      "{'eval_loss': 0.5002140998840332, 'eval_accuracy': 0.734, 'eval_f1': 0.7317723745508583, 'eval_runtime': 2.83, 'eval_samples_per_second': 176.678, 'eval_steps_per_second': 11.307, 'epoch': 5.0}\n"
     ]
    },
    {
     "name": "stderr",
     "output_type": "stream",
     "text": [
      "                                                  \n",
      " 60%|██████    | 750/1250 [03:25<02:08,  3.89it/s] "
     ]
    },
    {
     "name": "stdout",
     "output_type": "stream",
     "text": [
      "{'loss': 0.371, 'grad_norm': 6.616703033447266, 'learning_rate': 1.2e-05, 'epoch': 6.0}\n"
     ]
    },
    {
     "name": "stderr",
     "output_type": "stream",
     "text": [
      "\n",
      "\u001b[A\n",
      "\u001b[A\n",
      "\u001b[A\n",
      "\u001b[A\n",
      "\u001b[A\n",
      "\u001b[A\n",
      "\u001b[A\n",
      "\u001b[A\n",
      "\u001b[A\n",
      "\u001b[A\n",
      "\u001b[A\n",
      "\u001b[A\n",
      "\u001b[A\n",
      "\u001b[A\n",
      "\u001b[A\n",
      "\u001b[A\n",
      "\n",
      "                                                  \n",
      "\u001b[A                                                \n",
      " 60%|██████    | 750/1250 [03:28<02:08,  3.89it/s]\n",
      "\u001b[A"
     ]
    },
    {
     "name": "stdout",
     "output_type": "stream",
     "text": [
      "{'eval_loss': 0.5753050446510315, 'eval_accuracy': 0.714, 'eval_f1': 0.7101346651920801, 'eval_runtime': 2.799, 'eval_samples_per_second': 178.635, 'eval_steps_per_second': 11.433, 'epoch': 6.0}\n"
     ]
    },
    {
     "name": "stderr",
     "output_type": "stream",
     "text": [
      "                                                  \n",
      " 70%|███████   | 875/1250 [04:01<01:37,  3.83it/s] "
     ]
    },
    {
     "name": "stdout",
     "output_type": "stream",
     "text": [
      "{'loss': 0.3475, 'grad_norm': 4.68192195892334, 'learning_rate': 9e-06, 'epoch': 7.0}\n"
     ]
    },
    {
     "name": "stderr",
     "output_type": "stream",
     "text": [
      "\n",
      "\u001b[A\n",
      "\u001b[A\n",
      "\u001b[A\n",
      "\u001b[A\n",
      "\u001b[A\n",
      "\u001b[A\n",
      "\u001b[A\n",
      "\u001b[A\n",
      "\u001b[A\n",
      "\u001b[A\n",
      "\u001b[A\n",
      "\u001b[A\n",
      "\u001b[A\n",
      "\u001b[A\n",
      "\u001b[A\n",
      "\u001b[A\n",
      "\n",
      "                                                  \n",
      "\u001b[A                                                \n",
      " 70%|███████   | 875/1250 [04:03<01:37,  3.83it/s]\n",
      "\u001b[A"
     ]
    },
    {
     "name": "stdout",
     "output_type": "stream",
     "text": [
      "{'eval_loss': 0.5276868939399719, 'eval_accuracy': 0.736, 'eval_f1': 0.7362667165063078, 'eval_runtime': 2.738, 'eval_samples_per_second': 182.615, 'eval_steps_per_second': 11.687, 'epoch': 7.0}\n"
     ]
    },
    {
     "name": "stderr",
     "output_type": "stream",
     "text": [
      "                                                   \n",
      " 80%|████████  | 1000/1250 [04:36<01:05,  3.82it/s]"
     ]
    },
    {
     "name": "stdout",
     "output_type": "stream",
     "text": [
      "{'loss': 0.315, 'grad_norm': 7.38532829284668, 'learning_rate': 6e-06, 'epoch': 8.0}\n"
     ]
    },
    {
     "name": "stderr",
     "output_type": "stream",
     "text": [
      "\n",
      "\u001b[A\n",
      "\u001b[A\n",
      "\u001b[A\n",
      "\u001b[A\n",
      "\u001b[A\n",
      "\u001b[A\n",
      "\u001b[A\n",
      "\u001b[A\n",
      "\u001b[A\n",
      "\u001b[A\n",
      "\u001b[A\n",
      "\u001b[A\n",
      "\u001b[A\n",
      "\u001b[A\n",
      "\u001b[A\n",
      "\u001b[A\n",
      "\n",
      "                                                   \n",
      "\u001b[A                                                \n",
      " 80%|████████  | 1000/1250 [04:39<01:05,  3.82it/s]\n",
      "\u001b[A"
     ]
    },
    {
     "name": "stdout",
     "output_type": "stream",
     "text": [
      "{'eval_loss': 0.6070224642753601, 'eval_accuracy': 0.74, 'eval_f1': 0.7403906214357436, 'eval_runtime': 2.716, 'eval_samples_per_second': 184.094, 'eval_steps_per_second': 11.782, 'epoch': 8.0}\n"
     ]
    },
    {
     "name": "stderr",
     "output_type": "stream",
     "text": [
      "                                                   \n",
      " 90%|█████████ | 1125/1250 [05:12<00:34,  3.65it/s]"
     ]
    },
    {
     "name": "stdout",
     "output_type": "stream",
     "text": [
      "{'loss': 0.2902, 'grad_norm': 4.961822509765625, 'learning_rate': 3e-06, 'epoch': 9.0}\n"
     ]
    },
    {
     "name": "stderr",
     "output_type": "stream",
     "text": [
      "\n",
      "\u001b[A\n",
      "\u001b[A\n",
      "\u001b[A\n",
      "\u001b[A\n",
      "\u001b[A\n",
      "\u001b[A\n",
      "\u001b[A\n",
      "\u001b[A\n",
      "\u001b[A\n",
      "\u001b[A\n",
      "\u001b[A\n",
      "\u001b[A\n",
      "\u001b[A\n",
      "\u001b[A\n",
      "\u001b[A\n",
      "\u001b[A\n",
      "\n",
      "                                                   \n",
      "\u001b[A                                                \n",
      " 90%|█████████ | 1125/1250 [05:15<00:34,  3.65it/s]\n",
      "\u001b[A"
     ]
    },
    {
     "name": "stdout",
     "output_type": "stream",
     "text": [
      "{'eval_loss': 0.6258782148361206, 'eval_accuracy': 0.724, 'eval_f1': 0.7235938426811965, 'eval_runtime': 2.907, 'eval_samples_per_second': 171.999, 'eval_steps_per_second': 11.008, 'epoch': 9.0}\n"
     ]
    },
    {
     "name": "stderr",
     "output_type": "stream",
     "text": [
      "                                                   \n",
      "100%|██████████| 1250/1250 [05:50<00:00,  3.62it/s]"
     ]
    },
    {
     "name": "stdout",
     "output_type": "stream",
     "text": [
      "{'loss': 0.2702, 'grad_norm': 5.968344688415527, 'learning_rate': 0.0, 'epoch': 10.0}\n"
     ]
    },
    {
     "name": "stderr",
     "output_type": "stream",
     "text": [
      "\n",
      "\u001b[A\n",
      "\u001b[A\n",
      "\u001b[A\n",
      "\u001b[A\n",
      "\u001b[A\n",
      "\u001b[A\n",
      "\u001b[A\n",
      "\u001b[A\n",
      "\u001b[A\n",
      "\u001b[A\n",
      "\u001b[A\n",
      "\u001b[A\n",
      "\u001b[A\n",
      "\u001b[A\n",
      "\u001b[A\n",
      "\u001b[A\n",
      "\n",
      "                                                   \n",
      "\u001b[A                                                \n",
      "100%|██████████| 1250/1250 [05:53<00:00,  3.62it/s]\n",
      "                                                   \n",
      "100%|██████████| 1250/1250 [05:53<00:00,  3.54it/s]"
     ]
    },
    {
     "name": "stdout",
     "output_type": "stream",
     "text": [
      "{'eval_loss': 0.655913770198822, 'eval_accuracy': 0.716, 'eval_f1': 0.7159480532213247, 'eval_runtime': 3.089, 'eval_samples_per_second': 161.865, 'eval_steps_per_second': 10.359, 'epoch': 10.0}\n",
      "{'train_runtime': 353.5975, 'train_samples_per_second': 56.561, 'train_steps_per_second': 3.535, 'train_loss': 0.46037267456054687, 'epoch': 10.0}\n"
     ]
    },
    {
     "name": "stderr",
     "output_type": "stream",
     "text": [
      "\n"
     ]
    },
    {
     "data": {
      "text/plain": [
       "TrainOutput(global_step=1250, training_loss=0.46037267456054687, metrics={'train_runtime': 353.5975, 'train_samples_per_second': 56.561, 'train_steps_per_second': 3.535, 'train_loss': 0.46037267456054687, 'epoch': 10.0})"
      ]
     },
     "execution_count": 184,
     "metadata": {},
     "output_type": "execute_result"
    }
   ],
   "source": [
    "trainer.train()"
   ]
  },
  {
   "cell_type": "code",
   "execution_count": 185,
   "id": "5124b990",
   "metadata": {},
   "outputs": [
    {
     "name": "stderr",
     "output_type": "stream",
     "text": [
      "100%|██████████| 32/32 [00:02<00:00, 11.30it/s]"
     ]
    },
    {
     "name": "stdout",
     "output_type": "stream",
     "text": [
      "✅ Saved evaluation_metrics.json\n"
     ]
    },
    {
     "name": "stderr",
     "output_type": "stream",
     "text": [
      "\n"
     ]
    }
   ],
   "source": [
    "from sklearn.metrics import (\n",
    "    classification_report,\n",
    "    confusion_matrix,\n",
    "    accuracy_score,\n",
    "    precision_score,\n",
    "    recall_score,\n",
    "    roc_auc_score,\n",
    "    roc_curve,\n",
    "    auc\n",
    ")\n",
    "from sklearn.preprocessing import label_binarize\n",
    "\n",
    "# Predict\n",
    "preds_output = trainer.predict(test_dataset)\n",
    "preds = np.argmax(preds_output.predictions, axis=1)\n",
    "true = preds_output.label_ids\n",
    "\n",
    "# Label names\n",
    "labels = [f\"Level {id2label[i]}\" for i in range(5)]\n",
    "report = classification_report(true, preds, target_names=labels, output_dict=True)\n",
    "cm = confusion_matrix(true, preds)\n",
    "\n",
    "# Core metrics\n",
    "accuracy = accuracy_score(true, preds)\n",
    "precision = precision_score(true, preds, average=\"macro\")\n",
    "recall = recall_score(true, preds, average=\"macro\")\n",
    "f1 = report[\"weighted avg\"][\"f1-score\"]\n",
    "\n",
    "# ROC-AUC\n",
    "true_binarized = label_binarize(true, classes=list(range(5)))\n",
    "preds_binarized = label_binarize(preds, classes=list(range(5)))\n",
    "roc_auc = roc_auc_score(true_binarized, preds_binarized, average=\"macro\", multi_class=\"ovr\")\n",
    "\n",
    "# Hyperparameters to record\n",
    "experiment_config = {\n",
    "    \"model_name\": model_name,\n",
    "    \"learning_rate\": training_args.learning_rate,\n",
    "    \"train_batch_size\": training_args.per_device_train_batch_size,\n",
    "    \"eval_batch_size\": training_args.per_device_eval_batch_size,\n",
    "    \"num_epochs\": training_args.num_train_epochs\n",
    "}\n",
    "\n",
    "# Add all results to JSON\n",
    "report[\"overall\"] = {\n",
    "    \"accuracy\": accuracy,\n",
    "    \"macro_precision\": precision,\n",
    "    \"macro_recall\": recall,\n",
    "    \"f1_score\": f1,\n",
    "    \"roc_auc_macro\": roc_auc\n",
    "}\n",
    "report[\"config\"] = experiment_config\n",
    "\n",
    "# Save as JSON\n",
    "os.makedirs(\"./output\", exist_ok=True)\n",
    "with open(\"./output/evaluation_metrics.json\", \"w\") as f:\n",
    "    json.dump(report, f, indent=4)\n",
    "print(\"✅ Saved evaluation_metrics.json\")\n"
   ]
  },
  {
   "cell_type": "code",
   "execution_count": 186,
   "id": "7db844d1",
   "metadata": {},
   "outputs": [
    {
     "data": {
      "image/png": "[encoded data removed]",
      "text/plain": [
       "<Figure size 800x700 with 2 Axes>"
      ]
     },
     "metadata": {},
     "output_type": "display_data"
    }
   ],
   "source": [
    "# Plot confusion matrix\n",
    "plt.figure(figsize=(8, 7))\n",
    "sns.heatmap(cm, annot=True, fmt=\"d\", cmap=\"Blues\", xticklabels=labels, yticklabels=labels)\n",
    "plt.title(\"Confusion Matrix\")\n",
    "plt.xlabel(\"Predicted\")\n",
    "plt.ylabel(\"Actual\")\n",
    "plt.tight_layout()\n",
    "plt.savefig(\"./output/confusion_matrix.png\")\n",
    "plt.show()"
   ]
  },
  {
   "cell_type": "code",
   "execution_count": 187,
   "id": "4a88acb6",
   "metadata": {},
   "outputs": [
    {
     "name": "stdout",
     "output_type": "stream",
     "text": [
      "\n",
      "Experiment Configuration:\n",
      "\n",
      "          model_name: emilyalsentzer/Bio_ClinicalBERT\n",
      "       learning_rate: 3e-05\n",
      "    train_batch_size: 16\n",
      "     eval_batch_size: 16\n",
      "          num_epochs: 10\n",
      "\n",
      "Model Evaluation Summary:\n",
      "\n",
      "            accuracy: 0.7160\n",
      "     macro_precision: 0.7127\n",
      "        macro_recall: 0.7070\n",
      "            f1_score: 0.7159\n",
      "       roc_auc_macro: 0.8172\n"
     ]
    }
   ],
   "source": [
    "print(\"\\nExperiment Configuration:\\n\")\n",
    "for key, value in report[\"config\"].items():\n",
    "    print(f\"{key:>20}: {value}\")\n",
    "\n",
    "print(\"\\nModel Evaluation Summary:\\n\")\n",
    "overall = report[\"overall\"]\n",
    "for metric, value in overall.items():\n",
    "    print(f\"{metric:>20}: {value:.4f}\")"
   ]
  },
  {
   "cell_type": "code",
   "execution_count": null,
   "id": "482179f7",
   "metadata": {},
   "outputs": [],
   "source": [
    "# model.save_pretrained(\"./saved_model\")\n",
    "# tokenizer.save_pretrained(\"./saved_tokenizer\")\n"
   ]
  },
  {
   "cell_type": "code",
   "execution_count": 189,
   "id": "b7bd1893",
   "metadata": {},
   "outputs": [
    {
     "data": {
      "image/png": "[encoded data removed]",
      "text/plain": [
       "<Figure size 800x600 with 1 Axes>"
      ]
     },
     "metadata": {},
     "output_type": "display_data"
    }
   ],
   "source": [
    "fpr, tpr, roc_auc_curve = {}, {}, {}\n",
    "\n",
    "for i in range(5):\n",
    "    fpr[i], tpr[i], _ = roc_curve(true_binarized[:, i], preds_binarized[:, i])\n",
    "    roc_auc_curve[i] = auc(fpr[i], tpr[i])\n",
    "\n",
    "plt.figure(figsize=(8, 6))\n",
    "for i in range(5):\n",
    "    plt.plot(fpr[i], tpr[i], label=f\"Level {id2label[i]} (AUC = {roc_auc_curve[i]:.2f})\")\n",
    "plt.plot([0, 1], [0, 1], 'k--', label=\"Chance\")\n",
    "plt.title(\"ROC Curves by Triage Level\")\n",
    "plt.xlabel(\"False Positive Rate\")\n",
    "plt.ylabel(\"True Positive Rate\")\n",
    "plt.legend(loc=\"lower right\")\n",
    "plt.grid(True)\n",
    "plt.tight_layout()\n",
    "plt.savefig(\"./output/roc_curves.png\")\n",
    "plt.show()\n"
   ]
  },
  {
   "cell_type": "code",
   "execution_count": 190,
   "id": "fc8db97a",
   "metadata": {},
   "outputs": [
    {
     "name": "stdout",
     "output_type": "stream",
     "text": [
      "🚨 amount of duplicated description: 0\n"
     ]
    }
   ],
   "source": [
    "intersection = set(train_df['description']).intersection(set(test_df['description']))\n",
    "print(\"🚨 amount of duplicated description:\", len(intersection))\n"
   ]
  },
  {
   "cell_type": "code",
   "execution_count": 191,
   "id": "0ce601c4",
   "metadata": {},
   "outputs": [
    {
     "name": "stdout",
     "output_type": "stream",
     "text": [
      "📊 Label distribution in training set:\n",
      "triage_level\n",
      "1    374\n",
      "2    434\n",
      "3    467\n",
      "4    513\n",
      "5    212\n",
      "Name: count, dtype: int64 \n",
      "\n",
      "📊 Label distribution in test set:\n",
      "triage_level\n",
      "1     93\n",
      "2    108\n",
      "3    117\n",
      "4    129\n",
      "5     53\n",
      "Name: count, dtype: int64 \n",
      "\n"
     ]
    },
    {
     "name": "stderr",
     "output_type": "stream",
     "text": [
      "100%|██████████| 32/32 [00:02<00:00, 12.34it/s]\n"
     ]
    },
    {
     "name": "stdout",
     "output_type": "stream",
     "text": [
      "📈 Classification Report:\n",
      "\n",
      "              precision    recall  f1-score   support\n",
      "\n",
      "     Level 1       0.80      0.80      0.80        93\n",
      "     Level 2       0.74      0.72      0.73       108\n",
      "     Level 3       0.69      0.69      0.69       117\n",
      "     Level 4       0.68      0.72      0.70       129\n",
      "     Level 5       0.64      0.60      0.62        53\n",
      "\n",
      "    accuracy                           0.72       500\n",
      "   macro avg       0.71      0.71      0.71       500\n",
      "weighted avg       0.72      0.72      0.72       500\n",
      "\n"
     ]
    },
    {
     "data": {
      "image/png": "[encoded data removed]",
      "text/plain": [
       "<Figure size 600x600 with 2 Axes>"
      ]
     },
     "metadata": {},
     "output_type": "display_data"
    },
    {
     "name": "stdout",
     "output_type": "stream",
     "text": [
      "\n",
      "❌ Top 10 Incorrect Predictions:\n"
     ]
    },
    {
     "data": {
      "text/html": [
       "<div>\n",
       "<style scoped>\n",
       "    .dataframe tbody tr th:only-of-type {\n",
       "        vertical-align: middle;\n",
       "    }\n",
       "\n",
       "    .dataframe tbody tr th {\n",
       "        vertical-align: top;\n",
       "    }\n",
       "\n",
       "    .dataframe thead th {\n",
       "        text-align: right;\n",
       "    }\n",
       "</style>\n",
       "<table border=\"1\" class=\"dataframe\">\n",
       "  <thead>\n",
       "    <tr style=\"text-align: right;\">\n",
       "      <th></th>\n",
       "      <th>description</th>\n",
       "      <th>true_label</th>\n",
       "      <th>predicted_label</th>\n",
       "      <th>confidence</th>\n",
       "    </tr>\n",
       "  </thead>\n",
       "  <tbody>\n",
       "    <tr>\n",
       "      <th>1</th>\n",
       "      <td>moderate abdominal pain and dizziness reported...</td>\n",
       "      <td>4</td>\n",
       "      <td>3</td>\n",
       "      <td>3.800589</td>\n",
       "    </tr>\n",
       "    <tr>\n",
       "      <th>3</th>\n",
       "      <td>Patient reports persistent skin rash after exe...</td>\n",
       "      <td>5</td>\n",
       "      <td>4</td>\n",
       "      <td>3.951170</td>\n",
       "    </tr>\n",
       "    <tr>\n",
       "      <th>6</th>\n",
       "      <td>mild nausea occurred with vomiting and nausea.</td>\n",
       "      <td>3</td>\n",
       "      <td>4</td>\n",
       "      <td>4.620703</td>\n",
       "    </tr>\n",
       "    <tr>\n",
       "      <th>7</th>\n",
       "      <td>persistent headache was triggered by stress at...</td>\n",
       "      <td>4</td>\n",
       "      <td>3</td>\n",
       "      <td>3.782114</td>\n",
       "    </tr>\n",
       "    <tr>\n",
       "      <th>12</th>\n",
       "      <td>intermittent headache started during the night...</td>\n",
       "      <td>4</td>\n",
       "      <td>3</td>\n",
       "      <td>4.162579</td>\n",
       "    </tr>\n",
       "    <tr>\n",
       "      <th>15</th>\n",
       "      <td>Complaint of persistent trauma after exposure ...</td>\n",
       "      <td>1</td>\n",
       "      <td>2</td>\n",
       "      <td>3.853905</td>\n",
       "    </tr>\n",
       "    <tr>\n",
       "      <th>18</th>\n",
       "      <td>Symptoms started with severe abdominal pain an...</td>\n",
       "      <td>4</td>\n",
       "      <td>3</td>\n",
       "      <td>3.823575</td>\n",
       "    </tr>\n",
       "    <tr>\n",
       "      <th>23</th>\n",
       "      <td>severe trauma following long travel.</td>\n",
       "      <td>2</td>\n",
       "      <td>1</td>\n",
       "      <td>3.634093</td>\n",
       "    </tr>\n",
       "    <tr>\n",
       "      <th>24</th>\n",
       "      <td>Symptoms started with moderate nausea and then...</td>\n",
       "      <td>3</td>\n",
       "      <td>4</td>\n",
       "      <td>3.559323</td>\n",
       "    </tr>\n",
       "    <tr>\n",
       "      <th>26</th>\n",
       "      <td>mild dizziness has interfered with appetite.</td>\n",
       "      <td>3</td>\n",
       "      <td>4</td>\n",
       "      <td>3.706104</td>\n",
       "    </tr>\n",
       "  </tbody>\n",
       "</table>\n",
       "</div>"
      ],
      "text/plain": [
       "                                          description true_label  \\\n",
       "1   moderate abdominal pain and dizziness reported...          4   \n",
       "3   Patient reports persistent skin rash after exe...          5   \n",
       "6      mild nausea occurred with vomiting and nausea.          3   \n",
       "7   persistent headache was triggered by stress at...          4   \n",
       "12  intermittent headache started during the night...          4   \n",
       "15  Complaint of persistent trauma after exposure ...          1   \n",
       "18  Symptoms started with severe abdominal pain an...          4   \n",
       "23               severe trauma following long travel.          2   \n",
       "24  Symptoms started with moderate nausea and then...          3   \n",
       "26       mild dizziness has interfered with appetite.          3   \n",
       "\n",
       "   predicted_label  confidence  \n",
       "1                3    3.800589  \n",
       "3                4    3.951170  \n",
       "6                4    4.620703  \n",
       "7                3    3.782114  \n",
       "12               3    4.162579  \n",
       "15               2    3.853905  \n",
       "18               3    3.823575  \n",
       "23               1    3.634093  \n",
       "24               4    3.559323  \n",
       "26               4    3.706104  "
      ]
     },
     "metadata": {},
     "output_type": "display_data"
    },
    {
     "name": "stdout",
     "output_type": "stream",
     "text": [
      "\n",
      "🔍 Avg Confidence per True Class:\n",
      "label\n",
      "0    5.219672\n",
      "1    4.270700\n",
      "2    5.025700\n",
      "3    4.775331\n",
      "4    4.452493\n",
      "Name: confidence, dtype: float32\n",
      "\n",
      "🔁 Raw Confusion Matrix:\n"
     ]
    },
    {
     "data": {
      "text/html": [
       "<div>\n",
       "<style scoped>\n",
       "    .dataframe tbody tr th:only-of-type {\n",
       "        vertical-align: middle;\n",
       "    }\n",
       "\n",
       "    .dataframe tbody tr th {\n",
       "        vertical-align: top;\n",
       "    }\n",
       "\n",
       "    .dataframe thead th {\n",
       "        text-align: right;\n",
       "    }\n",
       "</style>\n",
       "<table border=\"1\" class=\"dataframe\">\n",
       "  <thead>\n",
       "    <tr style=\"text-align: right;\">\n",
       "      <th></th>\n",
       "      <th>Pred_1</th>\n",
       "      <th>Pred_2</th>\n",
       "      <th>Pred_3</th>\n",
       "      <th>Pred_4</th>\n",
       "      <th>Pred_5</th>\n",
       "    </tr>\n",
       "  </thead>\n",
       "  <tbody>\n",
       "    <tr>\n",
       "      <th>True_1</th>\n",
       "      <td>74</td>\n",
       "      <td>19</td>\n",
       "      <td>0</td>\n",
       "      <td>0</td>\n",
       "      <td>0</td>\n",
       "    </tr>\n",
       "    <tr>\n",
       "      <th>True_2</th>\n",
       "      <td>18</td>\n",
       "      <td>78</td>\n",
       "      <td>11</td>\n",
       "      <td>1</td>\n",
       "      <td>0</td>\n",
       "    </tr>\n",
       "    <tr>\n",
       "      <th>True_3</th>\n",
       "      <td>0</td>\n",
       "      <td>4</td>\n",
       "      <td>81</td>\n",
       "      <td>27</td>\n",
       "      <td>5</td>\n",
       "    </tr>\n",
       "    <tr>\n",
       "      <th>True_4</th>\n",
       "      <td>0</td>\n",
       "      <td>4</td>\n",
       "      <td>19</td>\n",
       "      <td>93</td>\n",
       "      <td>13</td>\n",
       "    </tr>\n",
       "    <tr>\n",
       "      <th>True_5</th>\n",
       "      <td>0</td>\n",
       "      <td>0</td>\n",
       "      <td>6</td>\n",
       "      <td>15</td>\n",
       "      <td>32</td>\n",
       "    </tr>\n",
       "  </tbody>\n",
       "</table>\n",
       "</div>"
      ],
      "text/plain": [
       "        Pred_1  Pred_2  Pred_3  Pred_4  Pred_5\n",
       "True_1      74      19       0       0       0\n",
       "True_2      18      78      11       1       0\n",
       "True_3       0       4      81      27       5\n",
       "True_4       0       4      19      93      13\n",
       "True_5       0       0       6      15      32"
      ]
     },
     "metadata": {},
     "output_type": "display_data"
    }
   ],
   "source": [
    "import pandas as pd\n",
    "import numpy as np\n",
    "from sklearn.metrics import classification_report, confusion_matrix\n",
    "import matplotlib.pyplot as plt\n",
    "import seaborn as sns\n",
    "\n",
    "# 1. Check label distribution in train/test\n",
    "print(\"📊 Label distribution in training set:\")\n",
    "print(train_df[\"triage_level\"].value_counts().sort_index(), \"\\n\")\n",
    "\n",
    "print(\"📊 Label distribution in test set:\")\n",
    "print(test_df[\"triage_level\"].value_counts().sort_index(), \"\\n\")\n",
    "\n",
    "# 2. Get predictions and labels\n",
    "preds_output = trainer.predict(test_dataset)\n",
    "preds = np.argmax(preds_output.predictions, axis=1)\n",
    "true = preds_output.label_ids\n",
    "probs = np.max(preds_output.predictions, axis=1)\n",
    "\n",
    "# 3. Classification report\n",
    "print(\"📈 Classification Report:\\n\")\n",
    "print(classification_report(true, preds, target_names=[f\"Level {id2label[i]}\" for i in range(5)]))\n",
    "\n",
    "# 4. Confusion matrix\n",
    "cm = confusion_matrix(true, preds)\n",
    "plt.figure(figsize=(6, 6))\n",
    "sns.heatmap(cm, annot=True, fmt=\"d\", cmap=\"Blues\", \n",
    "            xticklabels=[f\"Lvl {id2label[i]}\" for i in range(5)],\n",
    "            yticklabels=[f\"Lvl {id2label[i]}\" for i in range(5)])\n",
    "plt.title(\"Confusion Matrix\")\n",
    "plt.xlabel(\"Predicted\")\n",
    "plt.ylabel(\"Actual\")\n",
    "plt.tight_layout()\n",
    "plt.show()\n",
    "\n",
    "# 5. Analyze incorrect predictions\n",
    "wrong_mask = preds != true\n",
    "wrong_examples = test_df.iloc[wrong_mask]\n",
    "wrong_examples = wrong_examples.copy()\n",
    "wrong_examples[\"true_label\"] = [id2label[i] for i in true[wrong_mask]]\n",
    "wrong_examples[\"predicted_label\"] = [id2label[i] for i in preds[wrong_mask]]\n",
    "wrong_examples[\"confidence\"] = probs[wrong_mask]\n",
    "\n",
    "print(\"\\n❌ Top 10 Incorrect Predictions:\")\n",
    "display(wrong_examples[[\"description\", \"true_label\", \"predicted_label\", \"confidence\"]].head(10))\n",
    "\n",
    "# 6. Average prediction confidence per class\n",
    "conf_df = pd.DataFrame({\"label\": true, \"pred\": preds, \"confidence\": probs})\n",
    "print(\"\\n🔍 Avg Confidence per True Class:\")\n",
    "print(conf_df.groupby(\"label\")[\"confidence\"].mean())\n",
    "\n",
    "# 7. (Optional) Show most confusing class pairs\n",
    "cm_df = pd.DataFrame(cm, columns=[f\"Pred_{id2label[i]}\" for i in range(5)],\n",
    "                        index=[f\"True_{id2label[i]}\" for i in range(5)])\n",
    "print(\"\\n🔁 Raw Confusion Matrix:\")\n",
    "display(cm_df)\n"
   ]
  }
 ],
 "metadata": {
  "kernelspec": {
   "display_name": "nlp-clean",
   "language": "python",
   "name": "python3"
  },
  "language_info": {
   "codemirror_mode": {
    "name": "ipython",
    "version": 3
   },
   "file_extension": ".py",
   "mimetype": "text/x-python",
   "name": "python",
   "nbconvert_exporter": "python",
   "pygments_lexer": "ipython3",
   "version": "3.10.16"
  }
 },
 "nbformat": 4,
 "nbformat_minor": 5
}
