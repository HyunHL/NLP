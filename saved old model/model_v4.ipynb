{
 "cells": [
  {
   "cell_type": "code",
   "execution_count": 1,
   "id": "d0759b65",
   "metadata": {},
   "outputs": [
    {
     "name": "stderr",
     "output_type": "stream",
     "text": [
      "c:\\Users\\HYUN\\anaconda3\\envs\\nlp-clean\\lib\\site-packages\\tqdm\\auto.py:21: TqdmWarning: IProgress not found. Please update jupyter and ipywidgets. See https://ipywidgets.readthedocs.io/en/stable/user_install.html\n",
      "  from .autonotebook import tqdm as notebook_tqdm\n",
      "W0514 20:53:46.642000 2148 site-packages\\torch\\distributed\\elastic\\multiprocessing\\redirects.py:29] NOTE: Redirects are currently not supported in Windows or MacOs.\n"
     ]
    }
   ],
   "source": [
    "import pandas as pd\n",
    "import numpy as np\n",
    "from datasets import Dataset\n",
    "from sklearn.model_selection import train_test_split\n",
    "from transformers import (\n",
    "    AutoTokenizer, \n",
    "    AutoModelForSequenceClassification, \n",
    "    TrainingArguments, \n",
    "    Trainer,\n",
    "    DataCollatorWithPadding\n",
    ")\n",
    "from sklearn.metrics import classification_report, confusion_matrix\n",
    "import matplotlib.pyplot as plt\n",
    "import seaborn as sns\n",
    "import json\n",
    "import os\n"
   ]
  },
  {
   "cell_type": "code",
   "execution_count": 2,
   "id": "b5afe919",
   "metadata": {},
   "outputs": [
    {
     "data": {
      "text/html": [
       "<div>\n",
       "<style scoped>\n",
       "    .dataframe tbody tr th:only-of-type {\n",
       "        vertical-align: middle;\n",
       "    }\n",
       "\n",
       "    .dataframe tbody tr th {\n",
       "        vertical-align: top;\n",
       "    }\n",
       "\n",
       "    .dataframe thead th {\n",
       "        text-align: right;\n",
       "    }\n",
       "</style>\n",
       "<table border=\"1\" class=\"dataframe\">\n",
       "  <thead>\n",
       "    <tr style=\"text-align: right;\">\n",
       "      <th></th>\n",
       "      <th>patient_id</th>\n",
       "      <th>description</th>\n",
       "      <th>triage_level</th>\n",
       "    </tr>\n",
       "  </thead>\n",
       "  <tbody>\n",
       "    <tr>\n",
       "      <th>0</th>\n",
       "      <td>P00001</td>\n",
       "      <td>Severe persistent trauma noted after a fall.</td>\n",
       "      <td>2</td>\n",
       "    </tr>\n",
       "    <tr>\n",
       "      <th>1</th>\n",
       "      <td>P00002</td>\n",
       "      <td>moderate seizure observed during daily activit...</td>\n",
       "      <td>2</td>\n",
       "    </tr>\n",
       "    <tr>\n",
       "      <th>2</th>\n",
       "      <td>P00003</td>\n",
       "      <td>mild shortness of breath was triggered by stre...</td>\n",
       "      <td>1</td>\n",
       "    </tr>\n",
       "    <tr>\n",
       "      <th>3</th>\n",
       "      <td>P00004</td>\n",
       "      <td>Mild mild sore throat reported with no other s...</td>\n",
       "      <td>4</td>\n",
       "    </tr>\n",
       "    <tr>\n",
       "      <th>4</th>\n",
       "      <td>P00005</td>\n",
       "      <td>Severe moderate chest pain noted after a fall.</td>\n",
       "      <td>1</td>\n",
       "    </tr>\n",
       "  </tbody>\n",
       "</table>\n",
       "</div>"
      ],
      "text/plain": [
       "  patient_id                                        description  triage_level\n",
       "0     P00001       Severe persistent trauma noted after a fall.             2\n",
       "1     P00002  moderate seizure observed during daily activit...             2\n",
       "2     P00003  mild shortness of breath was triggered by stre...             1\n",
       "3     P00004  Mild mild sore throat reported with no other s...             4\n",
       "4     P00005     Severe moderate chest pain noted after a fall.             1"
      ]
     },
     "execution_count": 2,
     "metadata": {},
     "output_type": "execute_result"
    }
   ],
   "source": [
    "csv_path = \"dummy_emergency_patients_flexible_5000.csv\"  \n",
    "df = pd.read_csv(csv_path)\n",
    "df.head()\n"
   ]
  },
  {
   "cell_type": "code",
   "execution_count": 3,
   "id": "734787b4",
   "metadata": {},
   "outputs": [
    {
     "name": "stdout",
     "output_type": "stream",
     "text": [
      "Duplicated description removed and shuffled\n"
     ]
    }
   ],
   "source": [
    "# remove duplicated description\n",
    "df_unique = df.drop_duplicates(subset=\"description\").reset_index(drop=True)\n",
    "\n",
    "# stratified split\n",
    "from sklearn.model_selection import train_test_split\n",
    "train_df, test_df = train_test_split(\n",
    "    df_unique, \n",
    "    test_size=0.2, \n",
    "    stratify=df_unique[\"triage_level\"], \n",
    "    random_state=42\n",
    ")\n",
    "\n",
    "# shuffle\n",
    "train_df = train_df.sample(frac=1, random_state=42).reset_index(drop=True)\n",
    "test_df = test_df.reset_index(drop=True)\n",
    "\n",
    "print(\"Duplicated description removed and shuffled\")\n"
   ]
  },
  {
   "cell_type": "code",
   "execution_count": 4,
   "id": "c749a4c8",
   "metadata": {},
   "outputs": [
    {
     "name": "stdout",
     "output_type": "stream",
     "text": [
      "📄 Original dataset size: 2500\n",
      "✅ After removing duplicates: 2500\n",
      "❌ Number of duplicate descriptions removed: 0\n"
     ]
    }
   ],
   "source": [
    "# Calculate how many rows were removed due to duplicate descriptions\n",
    "original_count = len(df)\n",
    "unique_count = len(df_unique)\n",
    "removed_count = original_count - unique_count\n",
    "\n",
    "print(f\"📄 Original dataset size: {original_count}\")\n",
    "print(f\"✅ After removing duplicates: {unique_count}\")\n",
    "print(f\"❌ Number of duplicate descriptions removed: {removed_count}\")\n"
   ]
  },
  {
   "cell_type": "code",
   "execution_count": 5,
   "id": "b6e66eb0",
   "metadata": {},
   "outputs": [
    {
     "name": "stderr",
     "output_type": "stream",
     "text": [
      "Map: 100%|██████████| 2000/2000 [00:00<00:00, 24391.16 examples/s]\n",
      "Map: 100%|██████████| 500/500 [00:00<00:00, 20834.64 examples/s]\n"
     ]
    }
   ],
   "source": [
    "from datasets import Dataset\n",
    "\n",
    "train_dataset = Dataset.from_pandas(train_df)\n",
    "test_dataset = Dataset.from_pandas(test_df)\n",
    "\n",
    "unique_labels = sorted(df_unique[\"triage_level\"].unique())\n",
    "label2id = {int(lvl): i for i, lvl in enumerate(unique_labels)}\n",
    "id2label = {i: str(lvl) for lvl, i in label2id.items()}\n",
    "\n",
    "train_dataset = train_dataset.map(lambda x: {\"label\": label2id[int(x[\"triage_level\"])]})\n",
    "test_dataset = test_dataset.map(lambda x: {\"label\": label2id[int(x[\"triage_level\"])]})\n"
   ]
  },
  {
   "cell_type": "code",
   "execution_count": 6,
   "id": "1091658a",
   "metadata": {},
   "outputs": [
    {
     "name": "stderr",
     "output_type": "stream",
     "text": [
      "c:\\Users\\HYUN\\anaconda3\\envs\\nlp-clean\\lib\\site-packages\\huggingface_hub\\file_download.py:943: FutureWarning: `resume_download` is deprecated and will be removed in version 1.0.0. Downloads always resume when possible. If you want to force a new download, use `force_download=True`.\n",
      "  warnings.warn(\n",
      "Map: 100%|██████████| 2000/2000 [00:00<00:00, 8064.52 examples/s]\n",
      "Map: 100%|██████████| 500/500 [00:00<00:00, 20834.64 examples/s]\n",
      "Some weights of BertForSequenceClassification were not initialized from the model checkpoint at emilyalsentzer/Bio_ClinicalBERT and are newly initialized: ['classifier.bias', 'classifier.weight']\n",
      "You should probably TRAIN this model on a down-stream task to be able to use it for predictions and inference.\n"
     ]
    }
   ],
   "source": [
    "model_name = \"emilyalsentzer/Bio_ClinicalBERT\"\n",
    "tokenizer = AutoTokenizer.from_pretrained(model_name)\n",
    "\n",
    "def tokenize_function(example):\n",
    "    return tokenizer(\n",
    "        example[\"description\"],\n",
    "        padding=\"max_length\",\n",
    "        truncation=True,\n",
    "        max_length=64\n",
    "    )\n",
    "\n",
    "train_dataset = train_dataset.map(tokenize_function, batched=True)\n",
    "test_dataset = test_dataset.map(tokenize_function, batched=True)\n",
    "\n",
    "model = AutoModelForSequenceClassification.from_pretrained(\n",
    "    model_name,\n",
    "    num_labels=5,\n",
    "    id2label=id2label,\n",
    "    label2id=label2id\n",
    ")\n"
   ]
  },
  {
   "cell_type": "code",
   "execution_count": 7,
   "id": "f9eaa52c",
   "metadata": {},
   "outputs": [],
   "source": [
    "# training_args = TrainingArguments(\n",
    "#     output_dir=\"./results\",\n",
    "#     evaluation_strategy=\"epoch\",\n",
    "#     save_strategy=\"epoch\",\n",
    "#     learning_rate=5e-5,\n",
    "#     per_device_train_batch_size=16,\n",
    "#     per_device_eval_batch_size=16,\n",
    "#     num_train_epochs=15,\n",
    "#     weight_decay=0.01,\n",
    "#     logging_dir=\"./logs\",\n",
    "# )\n",
    "\n",
    "from transformers import TrainingArguments\n",
    "\n",
    "training_args = TrainingArguments(\n",
    "    output_dir=\"./results_no_save\",      # Output directory still needed\n",
    "    save_strategy=\"no\",                  # Do not save checkpoints\n",
    "    evaluation_strategy=\"epoch\",         # Keep evaluating (optional)\n",
    "    logging_strategy=\"epoch\",            # Keep logging (optional)\n",
    "    learning_rate=2e-5,\n",
    "    per_device_train_batch_size=16,\n",
    "    per_device_eval_batch_size=16,\n",
    "    num_train_epochs=15,\n",
    "    weight_decay=0.01,\n",
    "    logging_dir=\"./logs_no_save\",\n",
    "    logging_steps=999999\n",
    ")\n",
    "\n",
    "\n",
    "def compute_metrics(eval_pred):\n",
    "    logits, labels = eval_pred\n",
    "    preds = np.argmax(logits, axis=-1)\n",
    "    report = classification_report(labels, preds, output_dict=True)\n",
    "    return {\n",
    "        \"accuracy\": report[\"accuracy\"],\n",
    "        \"f1\": report[\"weighted avg\"][\"f1-score\"]\n",
    "    }\n",
    "\n",
    "data_collator = DataCollatorWithPadding(tokenizer=tokenizer)\n",
    "\n",
    "trainer = Trainer(\n",
    "    model=model,\n",
    "    args=training_args,\n",
    "    train_dataset=train_dataset,\n",
    "    eval_dataset=test_dataset,\n",
    "    compute_metrics=compute_metrics,\n",
    "    data_collator=data_collator\n",
    ")"
   ]
  },
  {
   "cell_type": "code",
   "execution_count": 8,
   "id": "028d87c0",
   "metadata": {},
   "outputs": [
    {
     "name": "stderr",
     "output_type": "stream",
     "text": [
      "  7%|▋         | 125/1875 [00:25<06:13,  4.69it/s]"
     ]
    },
    {
     "name": "stdout",
     "output_type": "stream",
     "text": [
      "{'loss': 1.2479, 'grad_norm': 4.024602890014648, 'learning_rate': 1.866666666666667e-05, 'epoch': 1.0}\n"
     ]
    },
    {
     "name": "stderr",
     "output_type": "stream",
     "text": [
      "                                                  \n",
      "  7%|▋         | 125/1875 [00:27<06:13,  4.69it/s]"
     ]
    },
    {
     "name": "stdout",
     "output_type": "stream",
     "text": [
      "{'eval_loss': 0.7185695767402649, 'eval_accuracy': 0.66, 'eval_f1': 0.6590331217207729, 'eval_runtime': 2.254, 'eval_samples_per_second': 221.828, 'eval_steps_per_second': 14.197, 'epoch': 1.0}\n"
     ]
    },
    {
     "name": "stderr",
     "output_type": "stream",
     "text": [
      " 13%|█▎        | 250/1875 [00:57<06:35,  4.11it/s]"
     ]
    },
    {
     "name": "stdout",
     "output_type": "stream",
     "text": [
      "{'loss': 0.6256, 'grad_norm': 4.885065078735352, 'learning_rate': 1.7333333333333336e-05, 'epoch': 2.0}\n"
     ]
    },
    {
     "name": "stderr",
     "output_type": "stream",
     "text": [
      "                                                  \n",
      " 13%|█▎        | 250/1875 [00:59<06:35,  4.11it/s]"
     ]
    },
    {
     "name": "stdout",
     "output_type": "stream",
     "text": [
      "{'eval_loss': 0.4931342303752899, 'eval_accuracy': 0.736, 'eval_f1': 0.736572381883721, 'eval_runtime': 2.592, 'eval_samples_per_second': 192.901, 'eval_steps_per_second': 12.346, 'epoch': 2.0}\n"
     ]
    },
    {
     "name": "stderr",
     "output_type": "stream",
     "text": [
      " 20%|██        | 375/1875 [01:31<07:27,  3.36it/s]"
     ]
    },
    {
     "name": "stdout",
     "output_type": "stream",
     "text": [
      "{'loss': 0.5065, 'grad_norm': 5.362381935119629, 'learning_rate': 1.6000000000000003e-05, 'epoch': 3.0}\n"
     ]
    },
    {
     "name": "stderr",
     "output_type": "stream",
     "text": [
      "                                                  \n",
      " 20%|██        | 375/1875 [01:34<07:27,  3.36it/s]"
     ]
    },
    {
     "name": "stdout",
     "output_type": "stream",
     "text": [
      "{'eval_loss': 0.5210563540458679, 'eval_accuracy': 0.728, 'eval_f1': 0.7265640178519663, 'eval_runtime': 2.675, 'eval_samples_per_second': 186.916, 'eval_steps_per_second': 11.963, 'epoch': 3.0}\n"
     ]
    },
    {
     "name": "stderr",
     "output_type": "stream",
     "text": [
      " 27%|██▋       | 500/1875 [02:06<05:52,  3.90it/s]"
     ]
    },
    {
     "name": "stdout",
     "output_type": "stream",
     "text": [
      "{'loss': 0.4525, 'grad_norm': 4.4726457595825195, 'learning_rate': 1.4666666666666666e-05, 'epoch': 4.0}\n"
     ]
    },
    {
     "name": "stderr",
     "output_type": "stream",
     "text": [
      "                                                  \n",
      " 27%|██▋       | 500/1875 [02:09<05:52,  3.90it/s]"
     ]
    },
    {
     "name": "stdout",
     "output_type": "stream",
     "text": [
      "{'eval_loss': 0.47463542222976685, 'eval_accuracy': 0.732, 'eval_f1': 0.7281597098057291, 'eval_runtime': 2.799, 'eval_samples_per_second': 178.635, 'eval_steps_per_second': 11.433, 'epoch': 4.0}\n"
     ]
    },
    {
     "name": "stderr",
     "output_type": "stream",
     "text": [
      " 33%|███▎      | 625/1875 [02:41<05:16,  3.95it/s]"
     ]
    },
    {
     "name": "stdout",
     "output_type": "stream",
     "text": [
      "{'loss': 0.4139, 'grad_norm': 4.371686935424805, 'learning_rate': 1.3333333333333333e-05, 'epoch': 5.0}\n"
     ]
    },
    {
     "name": "stderr",
     "output_type": "stream",
     "text": [
      "                                                  \n",
      " 33%|███▎      | 625/1875 [02:44<05:16,  3.95it/s]"
     ]
    },
    {
     "name": "stdout",
     "output_type": "stream",
     "text": [
      "{'eval_loss': 0.5000292658805847, 'eval_accuracy': 0.728, 'eval_f1': 0.7242668318358595, 'eval_runtime': 2.72, 'eval_samples_per_second': 183.824, 'eval_steps_per_second': 11.765, 'epoch': 5.0}\n"
     ]
    },
    {
     "name": "stderr",
     "output_type": "stream",
     "text": [
      " 40%|████      | 750/1875 [03:15<04:45,  3.94it/s]"
     ]
    },
    {
     "name": "stdout",
     "output_type": "stream",
     "text": [
      "{'loss': 0.384, 'grad_norm': 4.05630350112915, 'learning_rate': 1.2e-05, 'epoch': 6.0}\n"
     ]
    },
    {
     "name": "stderr",
     "output_type": "stream",
     "text": [
      "                                                  \n",
      " 40%|████      | 750/1875 [03:18<04:45,  3.94it/s]"
     ]
    },
    {
     "name": "stdout",
     "output_type": "stream",
     "text": [
      "{'eval_loss': 0.5562312006950378, 'eval_accuracy': 0.724, 'eval_f1': 0.7168941189472473, 'eval_runtime': 2.617, 'eval_samples_per_second': 191.059, 'eval_steps_per_second': 12.228, 'epoch': 6.0}\n"
     ]
    },
    {
     "name": "stderr",
     "output_type": "stream",
     "text": [
      " 47%|████▋     | 875/1875 [03:49<04:09,  4.00it/s]"
     ]
    },
    {
     "name": "stdout",
     "output_type": "stream",
     "text": [
      "{'loss': 0.3661, 'grad_norm': 5.695080280303955, 'learning_rate': 1.0666666666666667e-05, 'epoch': 7.0}\n"
     ]
    },
    {
     "name": "stderr",
     "output_type": "stream",
     "text": [
      "                                                  \n",
      " 47%|████▋     | 875/1875 [03:52<04:09,  4.00it/s]"
     ]
    },
    {
     "name": "stdout",
     "output_type": "stream",
     "text": [
      "{'eval_loss': 0.529779314994812, 'eval_accuracy': 0.75, 'eval_f1': 0.750630744564071, 'eval_runtime': 2.861, 'eval_samples_per_second': 174.764, 'eval_steps_per_second': 11.185, 'epoch': 7.0}\n"
     ]
    },
    {
     "name": "stderr",
     "output_type": "stream",
     "text": [
      " 53%|█████▎    | 1000/1875 [04:25<03:38,  4.00it/s]"
     ]
    },
    {
     "name": "stdout",
     "output_type": "stream",
     "text": [
      "{'loss': 0.3413, 'grad_norm': 7.862741470336914, 'learning_rate': 9.333333333333334e-06, 'epoch': 8.0}\n"
     ]
    },
    {
     "name": "stderr",
     "output_type": "stream",
     "text": [
      "                                                   \n",
      " 53%|█████▎    | 1000/1875 [04:28<03:38,  4.00it/s]"
     ]
    },
    {
     "name": "stdout",
     "output_type": "stream",
     "text": [
      "{'eval_loss': 0.6024494171142578, 'eval_accuracy': 0.726, 'eval_f1': 0.7262884860073535, 'eval_runtime': 2.7949, 'eval_samples_per_second': 178.9, 'eval_steps_per_second': 11.45, 'epoch': 8.0}\n"
     ]
    },
    {
     "name": "stderr",
     "output_type": "stream",
     "text": [
      " 60%|██████    | 1125/1875 [05:02<03:41,  3.39it/s]"
     ]
    },
    {
     "name": "stdout",
     "output_type": "stream",
     "text": [
      "{'loss': 0.3221, 'grad_norm': 5.088212490081787, 'learning_rate': 8.000000000000001e-06, 'epoch': 9.0}\n"
     ]
    },
    {
     "name": "stderr",
     "output_type": "stream",
     "text": [
      "                                                   \n",
      " 60%|██████    | 1125/1875 [05:05<03:41,  3.39it/s]"
     ]
    },
    {
     "name": "stdout",
     "output_type": "stream",
     "text": [
      "{'eval_loss': 0.6490452885627747, 'eval_accuracy': 0.744, 'eval_f1': 0.7426707802179966, 'eval_runtime': 2.957, 'eval_samples_per_second': 169.09, 'eval_steps_per_second': 10.822, 'epoch': 9.0}\n"
     ]
    },
    {
     "name": "stderr",
     "output_type": "stream",
     "text": [
      " 67%|██████▋   | 1250/1875 [05:41<02:54,  3.59it/s]"
     ]
    },
    {
     "name": "stdout",
     "output_type": "stream",
     "text": [
      "{'loss': 0.2964, 'grad_norm': 18.14813804626465, 'learning_rate': 6.666666666666667e-06, 'epoch': 10.0}\n"
     ]
    },
    {
     "name": "stderr",
     "output_type": "stream",
     "text": [
      "                                                   \n",
      " 67%|██████▋   | 1250/1875 [05:44<02:54,  3.59it/s]"
     ]
    },
    {
     "name": "stdout",
     "output_type": "stream",
     "text": [
      "{'eval_loss': 0.6785703301429749, 'eval_accuracy': 0.726, 'eval_f1': 0.7246305945541046, 'eval_runtime': 3.183, 'eval_samples_per_second': 157.084, 'eval_steps_per_second': 10.053, 'epoch': 10.0}\n"
     ]
    },
    {
     "name": "stderr",
     "output_type": "stream",
     "text": [
      " 73%|███████▎  | 1375/1875 [06:21<02:13,  3.75it/s]"
     ]
    },
    {
     "name": "stdout",
     "output_type": "stream",
     "text": [
      "{'loss': 0.2704, 'grad_norm': 7.957034111022949, 'learning_rate': 5.333333333333334e-06, 'epoch': 11.0}\n"
     ]
    },
    {
     "name": "stderr",
     "output_type": "stream",
     "text": [
      "                                                   \n",
      " 73%|███████▎  | 1375/1875 [06:24<02:13,  3.75it/s]"
     ]
    },
    {
     "name": "stdout",
     "output_type": "stream",
     "text": [
      "{'eval_loss': 0.7253156304359436, 'eval_accuracy': 0.726, 'eval_f1': 0.7260229764319333, 'eval_runtime': 3.044, 'eval_samples_per_second': 164.258, 'eval_steps_per_second': 10.512, 'epoch': 11.0}\n"
     ]
    },
    {
     "name": "stderr",
     "output_type": "stream",
     "text": [
      " 80%|████████  | 1500/1875 [06:58<01:47,  3.49it/s]"
     ]
    },
    {
     "name": "stdout",
     "output_type": "stream",
     "text": [
      "{'loss': 0.2528, 'grad_norm': 9.347390174865723, 'learning_rate': 4.000000000000001e-06, 'epoch': 12.0}\n"
     ]
    },
    {
     "name": "stderr",
     "output_type": "stream",
     "text": [
      "                                                   \n",
      " 80%|████████  | 1500/1875 [07:01<01:47,  3.49it/s]"
     ]
    },
    {
     "name": "stdout",
     "output_type": "stream",
     "text": [
      "{'eval_loss': 0.7913725972175598, 'eval_accuracy': 0.728, 'eval_f1': 0.727302834558743, 'eval_runtime': 2.796, 'eval_samples_per_second': 178.827, 'eval_steps_per_second': 11.445, 'epoch': 12.0}\n"
     ]
    },
    {
     "name": "stderr",
     "output_type": "stream",
     "text": [
      " 87%|████████▋ | 1625/1875 [07:35<01:10,  3.53it/s]"
     ]
    },
    {
     "name": "stdout",
     "output_type": "stream",
     "text": [
      "{'loss': 0.2318, 'grad_norm': 8.182326316833496, 'learning_rate': 2.666666666666667e-06, 'epoch': 13.0}\n"
     ]
    },
    {
     "name": "stderr",
     "output_type": "stream",
     "text": [
      "                                                   \n",
      " 87%|████████▋ | 1625/1875 [07:38<01:10,  3.53it/s]"
     ]
    },
    {
     "name": "stdout",
     "output_type": "stream",
     "text": [
      "{'eval_loss': 0.8139963150024414, 'eval_accuracy': 0.728, 'eval_f1': 0.727501741919446, 'eval_runtime': 2.765, 'eval_samples_per_second': 180.832, 'eval_steps_per_second': 11.573, 'epoch': 13.0}\n"
     ]
    },
    {
     "name": "stderr",
     "output_type": "stream",
     "text": [
      " 93%|█████████▎| 1750/1875 [08:12<00:33,  3.68it/s]"
     ]
    },
    {
     "name": "stdout",
     "output_type": "stream",
     "text": [
      "{'loss': 0.2101, 'grad_norm': 12.063460350036621, 'learning_rate': 1.3333333333333334e-06, 'epoch': 14.0}\n"
     ]
    },
    {
     "name": "stderr",
     "output_type": "stream",
     "text": [
      "                                                   \n",
      " 93%|█████████▎| 1750/1875 [08:15<00:33,  3.68it/s]"
     ]
    },
    {
     "name": "stdout",
     "output_type": "stream",
     "text": [
      "{'eval_loss': 0.8609122037887573, 'eval_accuracy': 0.728, 'eval_f1': 0.7280426435051502, 'eval_runtime': 2.804, 'eval_samples_per_second': 178.317, 'eval_steps_per_second': 11.412, 'epoch': 14.0}\n"
     ]
    },
    {
     "name": "stderr",
     "output_type": "stream",
     "text": [
      "100%|██████████| 1875/1875 [08:48<00:00,  3.52it/s]"
     ]
    },
    {
     "name": "stdout",
     "output_type": "stream",
     "text": [
      "{'loss': 0.2061, 'grad_norm': 6.724172115325928, 'learning_rate': 0.0, 'epoch': 15.0}\n"
     ]
    },
    {
     "name": "stderr",
     "output_type": "stream",
     "text": [
      "                                                   \n",
      "100%|██████████| 1875/1875 [08:51<00:00,  3.53it/s]"
     ]
    },
    {
     "name": "stdout",
     "output_type": "stream",
     "text": [
      "{'eval_loss': 0.8622146248817444, 'eval_accuracy': 0.728, 'eval_f1': 0.7282049838079455, 'eval_runtime': 2.858, 'eval_samples_per_second': 174.948, 'eval_steps_per_second': 11.197, 'epoch': 15.0}\n",
      "{'train_runtime': 531.7716, 'train_samples_per_second': 56.415, 'train_steps_per_second': 3.526, 'train_loss': 0.40850799967447915, 'epoch': 15.0}\n"
     ]
    },
    {
     "name": "stderr",
     "output_type": "stream",
     "text": [
      "\n"
     ]
    },
    {
     "data": {
      "text/plain": [
       "TrainOutput(global_step=1875, training_loss=0.40850799967447915, metrics={'train_runtime': 531.7716, 'train_samples_per_second': 56.415, 'train_steps_per_second': 3.526, 'train_loss': 0.40850799967447915, 'epoch': 15.0})"
      ]
     },
     "execution_count": 8,
     "metadata": {},
     "output_type": "execute_result"
    }
   ],
   "source": [
    "trainer.train()"
   ]
  },
  {
   "cell_type": "code",
   "execution_count": 9,
   "id": "5124b990",
   "metadata": {},
   "outputs": [
    {
     "name": "stderr",
     "output_type": "stream",
     "text": [
      "100%|██████████| 32/32 [00:02<00:00, 11.64it/s]"
     ]
    },
    {
     "name": "stdout",
     "output_type": "stream",
     "text": [
      "✅ Saved evaluation_metrics.json\n"
     ]
    },
    {
     "name": "stderr",
     "output_type": "stream",
     "text": [
      "\n"
     ]
    }
   ],
   "source": [
    "from sklearn.metrics import (\n",
    "    classification_report,\n",
    "    confusion_matrix,\n",
    "    accuracy_score,\n",
    "    precision_score,\n",
    "    recall_score,\n",
    "    roc_auc_score,\n",
    "    roc_curve,\n",
    "    auc\n",
    ")\n",
    "from sklearn.preprocessing import label_binarize\n",
    "\n",
    "# Predict\n",
    "preds_output = trainer.predict(test_dataset)\n",
    "preds = np.argmax(preds_output.predictions, axis=1)\n",
    "true = preds_output.label_ids\n",
    "\n",
    "# Label names\n",
    "labels = [f\"Level {id2label[i]}\" for i in range(5)]\n",
    "report = classification_report(true, preds, target_names=labels, output_dict=True)\n",
    "cm = confusion_matrix(true, preds)\n",
    "\n",
    "# Core metrics\n",
    "accuracy = accuracy_score(true, preds)\n",
    "precision = precision_score(true, preds, average=\"macro\")\n",
    "recall = recall_score(true, preds, average=\"macro\")\n",
    "f1 = report[\"weighted avg\"][\"f1-score\"]\n",
    "\n",
    "# ROC-AUC\n",
    "true_binarized = label_binarize(true, classes=list(range(5)))\n",
    "preds_binarized = label_binarize(preds, classes=list(range(5)))\n",
    "roc_auc = roc_auc_score(true_binarized, preds_binarized, average=\"macro\", multi_class=\"ovr\")\n",
    "\n",
    "# Hyperparameters to record\n",
    "experiment_config = {\n",
    "    \"model_name\": model_name,\n",
    "    \"learning_rate\": training_args.learning_rate,\n",
    "    \"train_batch_size\": training_args.per_device_train_batch_size,\n",
    "    \"eval_batch_size\": training_args.per_device_eval_batch_size,\n",
    "    \"num_epochs\": training_args.num_train_epochs\n",
    "}\n",
    "\n",
    "# Add all results to JSON\n",
    "report[\"overall\"] = {\n",
    "    \"accuracy\": accuracy,\n",
    "    \"macro_precision\": precision,\n",
    "    \"macro_recall\": recall,\n",
    "    \"f1_score\": f1,\n",
    "    \"roc_auc_macro\": roc_auc\n",
    "}\n",
    "report[\"config\"] = experiment_config\n",
    "\n",
    "# Save as JSON\n",
    "os.makedirs(\"./output\", exist_ok=True)\n",
    "with open(\"./output/evaluation_metrics.json\", \"w\") as f:\n",
    "    json.dump(report, f, indent=4)\n",
    "print(\"✅ Saved evaluation_metrics.json\")\n"
   ]
  },
  {
   "cell_type": "code",
   "execution_count": 10,
   "id": "7db844d1",
   "metadata": {},
   "outputs": [
    {
     "data": {
      "image/png": "[encoded data removed]",
      "text/plain": [
       "<Figure size 800x700 with 2 Axes>"
      ]
     },
     "metadata": {},
     "output_type": "display_data"
    }
   ],
   "source": [
    "# Plot confusion matrix\n",
    "plt.figure(figsize=(8, 7))\n",
    "sns.heatmap(cm, annot=True, fmt=\"d\", cmap=\"Blues\", xticklabels=labels, yticklabels=labels)\n",
    "plt.title(\"Confusion Matrix\")\n",
    "plt.xlabel(\"Predicted\")\n",
    "plt.ylabel(\"Actual\")\n",
    "plt.tight_layout()\n",
    "plt.savefig(\"./output/confusion_matrix.png\")\n",
    "plt.show()"
   ]
  },
  {
   "cell_type": "code",
   "execution_count": 11,
   "id": "4a88acb6",
   "metadata": {},
   "outputs": [
    {
     "name": "stdout",
     "output_type": "stream",
     "text": [
      "\n",
      "Experiment Configuration:\n",
      "\n",
      "          model_name: emilyalsentzer/Bio_ClinicalBERT\n",
      "       learning_rate: 2e-05\n",
      "    train_batch_size: 16\n",
      "     eval_batch_size: 16\n",
      "          num_epochs: 15\n",
      "\n",
      "Model Evaluation Summary:\n",
      "\n",
      "            accuracy: 0.7280\n",
      "     macro_precision: 0.7276\n",
      "        macro_recall: 0.7182\n",
      "            f1_score: 0.7282\n",
      "       roc_auc_macro: 0.8243\n"
     ]
    }
   ],
   "source": [
    "print(\"\\nExperiment Configuration:\\n\")\n",
    "for key, value in report[\"config\"].items():\n",
    "    print(f\"{key:>20}: {value}\")\n",
    "\n",
    "print(\"\\nModel Evaluation Summary:\\n\")\n",
    "overall = report[\"overall\"]\n",
    "for metric, value in overall.items():\n",
    "    print(f\"{metric:>20}: {value:.4f}\")"
   ]
  },
  {
   "cell_type": "code",
   "execution_count": 12,
   "id": "482179f7",
   "metadata": {},
   "outputs": [],
   "source": [
    "# model.save_pretrained(\"./saved_model\")\n",
    "# tokenizer.save_pretrained(\"./saved_tokenizer\")\n"
   ]
  },
  {
   "cell_type": "code",
   "execution_count": 13,
   "id": "b7bd1893",
   "metadata": {},
   "outputs": [
    {
     "data": {
      "image/png": "[encoded data removed]",
      "text/plain": [
       "<Figure size 800x600 with 1 Axes>"
      ]
     },
     "metadata": {},
     "output_type": "display_data"
    }
   ],
   "source": [
    "fpr, tpr, roc_auc_curve = {}, {}, {}\n",
    "\n",
    "for i in range(5):\n",
    "    fpr[i], tpr[i], _ = roc_curve(true_binarized[:, i], preds_binarized[:, i])\n",
    "    roc_auc_curve[i] = auc(fpr[i], tpr[i])\n",
    "\n",
    "plt.figure(figsize=(8, 6))\n",
    "for i in range(5):\n",
    "    plt.plot(fpr[i], tpr[i], label=f\"Level {id2label[i]} (AUC = {roc_auc_curve[i]:.2f})\")\n",
    "plt.plot([0, 1], [0, 1], 'k--', label=\"Chance\")\n",
    "plt.title(\"ROC Curves by Triage Level\")\n",
    "plt.xlabel(\"False Positive Rate\")\n",
    "plt.ylabel(\"True Positive Rate\")\n",
    "plt.legend(loc=\"lower right\")\n",
    "plt.grid(True)\n",
    "plt.tight_layout()\n",
    "plt.savefig(\"./output/roc_curves.png\")\n",
    "plt.show()\n"
   ]
  },
  {
   "cell_type": "code",
   "execution_count": 14,
   "id": "fc8db97a",
   "metadata": {},
   "outputs": [
    {
     "name": "stdout",
     "output_type": "stream",
     "text": [
      "🚨 amount of duplicated description: 0\n"
     ]
    }
   ],
   "source": [
    "intersection = set(train_df['description']).intersection(set(test_df['description']))\n",
    "print(\"🚨 amount of duplicated description:\", len(intersection))\n"
   ]
  },
  {
   "cell_type": "code",
   "execution_count": 15,
   "id": "0ce601c4",
   "metadata": {},
   "outputs": [
    {
     "name": "stdout",
     "output_type": "stream",
     "text": [
      "📊 Label distribution in training set:\n",
      "triage_level\n",
      "1    374\n",
      "2    434\n",
      "3    467\n",
      "4    513\n",
      "5    212\n",
      "Name: count, dtype: int64 \n",
      "\n",
      "📊 Label distribution in test set:\n",
      "triage_level\n",
      "1     93\n",
      "2    108\n",
      "3    117\n",
      "4    129\n",
      "5     53\n",
      "Name: count, dtype: int64 \n",
      "\n"
     ]
    },
    {
     "name": "stderr",
     "output_type": "stream",
     "text": [
      "100%|██████████| 32/32 [00:02<00:00, 11.83it/s]\n"
     ]
    },
    {
     "name": "stdout",
     "output_type": "stream",
     "text": [
      "📈 Classification Report:\n",
      "\n",
      "              precision    recall  f1-score   support\n",
      "\n",
      "     Level 1       0.83      0.77      0.80        93\n",
      "     Level 2       0.71      0.73      0.72       108\n",
      "     Level 3       0.73      0.73      0.73       117\n",
      "     Level 4       0.70      0.74      0.72       129\n",
      "     Level 5       0.67      0.62      0.65        53\n",
      "\n",
      "    accuracy                           0.73       500\n",
      "   macro avg       0.73      0.72      0.72       500\n",
      "weighted avg       0.73      0.73      0.73       500\n",
      "\n"
     ]
    },
    {
     "data": {
      "image/png": "[encoded data removed]",
      "text/plain": [
       "<Figure size 600x600 with 2 Axes>"
      ]
     },
     "metadata": {},
     "output_type": "display_data"
    },
    {
     "name": "stdout",
     "output_type": "stream",
     "text": [
      "\n",
      "❌ Top 10 Incorrect Predictions:\n"
     ]
    },
    {
     "data": {
      "text/html": [
       "<div>\n",
       "<style scoped>\n",
       "    .dataframe tbody tr th:only-of-type {\n",
       "        vertical-align: middle;\n",
       "    }\n",
       "\n",
       "    .dataframe tbody tr th {\n",
       "        vertical-align: top;\n",
       "    }\n",
       "\n",
       "    .dataframe thead th {\n",
       "        text-align: right;\n",
       "    }\n",
       "</style>\n",
       "<table border=\"1\" class=\"dataframe\">\n",
       "  <thead>\n",
       "    <tr style=\"text-align: right;\">\n",
       "      <th></th>\n",
       "      <th>description</th>\n",
       "      <th>true_label</th>\n",
       "      <th>predicted_label</th>\n",
       "      <th>confidence</th>\n",
       "    </tr>\n",
       "  </thead>\n",
       "  <tbody>\n",
       "    <tr>\n",
       "      <th>3</th>\n",
       "      <td>Patient reports persistent skin rash after exe...</td>\n",
       "      <td>5</td>\n",
       "      <td>4</td>\n",
       "      <td>4.701605</td>\n",
       "    </tr>\n",
       "    <tr>\n",
       "      <th>6</th>\n",
       "      <td>mild nausea occurred with vomiting and nausea.</td>\n",
       "      <td>3</td>\n",
       "      <td>4</td>\n",
       "      <td>3.882154</td>\n",
       "    </tr>\n",
       "    <tr>\n",
       "      <th>7</th>\n",
       "      <td>persistent headache was triggered by stress at...</td>\n",
       "      <td>4</td>\n",
       "      <td>3</td>\n",
       "      <td>4.833141</td>\n",
       "    </tr>\n",
       "    <tr>\n",
       "      <th>9</th>\n",
       "      <td>intermittent chest pain began suddenly and is ...</td>\n",
       "      <td>1</td>\n",
       "      <td>2</td>\n",
       "      <td>3.831285</td>\n",
       "    </tr>\n",
       "    <tr>\n",
       "      <th>12</th>\n",
       "      <td>intermittent headache started during the night...</td>\n",
       "      <td>4</td>\n",
       "      <td>3</td>\n",
       "      <td>3.988876</td>\n",
       "    </tr>\n",
       "    <tr>\n",
       "      <th>15</th>\n",
       "      <td>Complaint of persistent trauma after exposure ...</td>\n",
       "      <td>1</td>\n",
       "      <td>2</td>\n",
       "      <td>4.583632</td>\n",
       "    </tr>\n",
       "    <tr>\n",
       "      <th>18</th>\n",
       "      <td>Symptoms started with severe abdominal pain an...</td>\n",
       "      <td>4</td>\n",
       "      <td>3</td>\n",
       "      <td>4.454671</td>\n",
       "    </tr>\n",
       "    <tr>\n",
       "      <th>22</th>\n",
       "      <td>mild abdominal pain and dizziness reported tog...</td>\n",
       "      <td>3</td>\n",
       "      <td>4</td>\n",
       "      <td>3.747576</td>\n",
       "    </tr>\n",
       "    <tr>\n",
       "      <th>23</th>\n",
       "      <td>severe trauma following long travel.</td>\n",
       "      <td>2</td>\n",
       "      <td>1</td>\n",
       "      <td>4.045892</td>\n",
       "    </tr>\n",
       "    <tr>\n",
       "      <th>24</th>\n",
       "      <td>Symptoms started with moderate nausea and then...</td>\n",
       "      <td>3</td>\n",
       "      <td>4</td>\n",
       "      <td>3.524326</td>\n",
       "    </tr>\n",
       "  </tbody>\n",
       "</table>\n",
       "</div>"
      ],
      "text/plain": [
       "                                          description true_label  \\\n",
       "3   Patient reports persistent skin rash after exe...          5   \n",
       "6      mild nausea occurred with vomiting and nausea.          3   \n",
       "7   persistent headache was triggered by stress at...          4   \n",
       "9   intermittent chest pain began suddenly and is ...          1   \n",
       "12  intermittent headache started during the night...          4   \n",
       "15  Complaint of persistent trauma after exposure ...          1   \n",
       "18  Symptoms started with severe abdominal pain an...          4   \n",
       "22  mild abdominal pain and dizziness reported tog...          3   \n",
       "23               severe trauma following long travel.          2   \n",
       "24  Symptoms started with moderate nausea and then...          3   \n",
       "\n",
       "   predicted_label  confidence  \n",
       "3                4    4.701605  \n",
       "6                4    3.882154  \n",
       "7                3    4.833141  \n",
       "9                2    3.831285  \n",
       "12               3    3.988876  \n",
       "15               2    4.583632  \n",
       "18               3    4.454671  \n",
       "22               4    3.747576  \n",
       "23               1    4.045892  \n",
       "24               4    3.524326  "
      ]
     },
     "metadata": {},
     "output_type": "display_data"
    },
    {
     "name": "stdout",
     "output_type": "stream",
     "text": [
      "\n",
      "🔍 Avg Confidence per True Class:\n",
      "label\n",
      "0    5.254841\n",
      "1    4.666085\n",
      "2    4.831942\n",
      "3    4.830568\n",
      "4    4.714139\n",
      "Name: confidence, dtype: float32\n",
      "\n",
      "🔁 Raw Confusion Matrix:\n"
     ]
    },
    {
     "data": {
      "text/html": [
       "<div>\n",
       "<style scoped>\n",
       "    .dataframe tbody tr th:only-of-type {\n",
       "        vertical-align: middle;\n",
       "    }\n",
       "\n",
       "    .dataframe tbody tr th {\n",
       "        vertical-align: top;\n",
       "    }\n",
       "\n",
       "    .dataframe thead th {\n",
       "        text-align: right;\n",
       "    }\n",
       "</style>\n",
       "<table border=\"1\" class=\"dataframe\">\n",
       "  <thead>\n",
       "    <tr style=\"text-align: right;\">\n",
       "      <th></th>\n",
       "      <th>Pred_1</th>\n",
       "      <th>Pred_2</th>\n",
       "      <th>Pred_3</th>\n",
       "      <th>Pred_4</th>\n",
       "      <th>Pred_5</th>\n",
       "    </tr>\n",
       "  </thead>\n",
       "  <tbody>\n",
       "    <tr>\n",
       "      <th>True_1</th>\n",
       "      <td>72</td>\n",
       "      <td>21</td>\n",
       "      <td>0</td>\n",
       "      <td>0</td>\n",
       "      <td>0</td>\n",
       "    </tr>\n",
       "    <tr>\n",
       "      <th>True_2</th>\n",
       "      <td>15</td>\n",
       "      <td>79</td>\n",
       "      <td>11</td>\n",
       "      <td>3</td>\n",
       "      <td>0</td>\n",
       "    </tr>\n",
       "    <tr>\n",
       "      <th>True_3</th>\n",
       "      <td>0</td>\n",
       "      <td>5</td>\n",
       "      <td>85</td>\n",
       "      <td>22</td>\n",
       "      <td>5</td>\n",
       "    </tr>\n",
       "    <tr>\n",
       "      <th>True_4</th>\n",
       "      <td>0</td>\n",
       "      <td>6</td>\n",
       "      <td>17</td>\n",
       "      <td>95</td>\n",
       "      <td>11</td>\n",
       "    </tr>\n",
       "    <tr>\n",
       "      <th>True_5</th>\n",
       "      <td>0</td>\n",
       "      <td>0</td>\n",
       "      <td>4</td>\n",
       "      <td>16</td>\n",
       "      <td>33</td>\n",
       "    </tr>\n",
       "  </tbody>\n",
       "</table>\n",
       "</div>"
      ],
      "text/plain": [
       "        Pred_1  Pred_2  Pred_3  Pred_4  Pred_5\n",
       "True_1      72      21       0       0       0\n",
       "True_2      15      79      11       3       0\n",
       "True_3       0       5      85      22       5\n",
       "True_4       0       6      17      95      11\n",
       "True_5       0       0       4      16      33"
      ]
     },
     "metadata": {},
     "output_type": "display_data"
    }
   ],
   "source": [
    "import pandas as pd\n",
    "import numpy as np\n",
    "from sklearn.metrics import classification_report, confusion_matrix\n",
    "import matplotlib.pyplot as plt\n",
    "import seaborn as sns\n",
    "\n",
    "# 1. Check label distribution in train/test\n",
    "print(\"📊 Label distribution in training set:\")\n",
    "print(train_df[\"triage_level\"].value_counts().sort_index(), \"\\n\")\n",
    "\n",
    "print(\"📊 Label distribution in test set:\")\n",
    "print(test_df[\"triage_level\"].value_counts().sort_index(), \"\\n\")\n",
    "\n",
    "# 2. Get predictions and labels\n",
    "preds_output = trainer.predict(test_dataset)\n",
    "preds = np.argmax(preds_output.predictions, axis=1)\n",
    "true = preds_output.label_ids\n",
    "probs = np.max(preds_output.predictions, axis=1)\n",
    "\n",
    "# 3. Classification report\n",
    "print(\"📈 Classification Report:\\n\")\n",
    "print(classification_report(true, preds, target_names=[f\"Level {id2label[i]}\" for i in range(5)]))\n",
    "\n",
    "# 4. Confusion matrix\n",
    "cm = confusion_matrix(true, preds)\n",
    "plt.figure(figsize=(6, 6))\n",
    "sns.heatmap(cm, annot=True, fmt=\"d\", cmap=\"Blues\", \n",
    "            xticklabels=[f\"Lvl {id2label[i]}\" for i in range(5)],\n",
    "            yticklabels=[f\"Lvl {id2label[i]}\" for i in range(5)])\n",
    "plt.title(\"Confusion Matrix\")\n",
    "plt.xlabel(\"Predicted\")\n",
    "plt.ylabel(\"Actual\")\n",
    "plt.tight_layout()\n",
    "plt.show()\n",
    "\n",
    "# 5. Analyze incorrect predictions\n",
    "wrong_mask = preds != true\n",
    "wrong_examples = test_df.iloc[wrong_mask]\n",
    "wrong_examples = wrong_examples.copy()\n",
    "wrong_examples[\"true_label\"] = [id2label[i] for i in true[wrong_mask]]\n",
    "wrong_examples[\"predicted_label\"] = [id2label[i] for i in preds[wrong_mask]]\n",
    "wrong_examples[\"confidence\"] = probs[wrong_mask]\n",
    "\n",
    "print(\"\\n❌ Top 10 Incorrect Predictions:\")\n",
    "display(wrong_examples[[\"description\", \"true_label\", \"predicted_label\", \"confidence\"]].head(10))\n",
    "\n",
    "# 6. Average prediction confidence per class\n",
    "conf_df = pd.DataFrame({\"label\": true, \"pred\": preds, \"confidence\": probs})\n",
    "print(\"\\n🔍 Avg Confidence per True Class:\")\n",
    "print(conf_df.groupby(\"label\")[\"confidence\"].mean())\n",
    "\n",
    "# 7. (Optional) Show most confusing class pairs\n",
    "cm_df = pd.DataFrame(cm, columns=[f\"Pred_{id2label[i]}\" for i in range(5)],\n",
    "                        index=[f\"True_{id2label[i]}\" for i in range(5)])\n",
    "print(\"\\n🔁 Raw Confusion Matrix:\")\n",
    "display(cm_df)\n"
   ]
  }
 ],
 "metadata": {
  "kernelspec": {
   "display_name": "nlp-clean",
   "language": "python",
   "name": "python3"
  },
  "language_info": {
   "codemirror_mode": {
    "name": "ipython",
    "version": 3
   },
   "file_extension": ".py",
   "mimetype": "text/x-python",
   "name": "python",
   "nbconvert_exporter": "python",
   "pygments_lexer": "ipython3",
   "version": "3.10.16"
  }
 },
 "nbformat": 4,
 "nbformat_minor": 5
}
