{
 "cells": [
  {
   "cell_type": "code",
   "execution_count": 1,
   "id": "d0759b65",
   "metadata": {},
   "outputs": [
    {
     "name": "stderr",
     "output_type": "stream",
     "text": [
      "c:\\Users\\HYUN\\anaconda3\\envs\\nlp-clean\\lib\\site-packages\\tqdm\\auto.py:21: TqdmWarning: IProgress not found. Please update jupyter and ipywidgets. See https://ipywidgets.readthedocs.io/en/stable/user_install.html\n",
      "  from .autonotebook import tqdm as notebook_tqdm\n",
      "W0514 20:41:06.856000 4996 site-packages\\torch\\distributed\\elastic\\multiprocessing\\redirects.py:29] NOTE: Redirects are currently not supported in Windows or MacOs.\n"
     ]
    }
   ],
   "source": [
    "import pandas as pd\n",
    "import numpy as np\n",
    "from datasets import Dataset\n",
    "from sklearn.model_selection import train_test_split\n",
    "from transformers import (\n",
    "    AutoTokenizer, \n",
    "    AutoModelForSequenceClassification, \n",
    "    TrainingArguments, \n",
    "    Trainer,\n",
    "    DataCollatorWithPadding\n",
    ")\n",
    "from sklearn.metrics import classification_report, confusion_matrix\n",
    "import matplotlib.pyplot as plt\n",
    "import seaborn as sns\n",
    "import json\n",
    "import os\n"
   ]
  },
  {
   "cell_type": "code",
   "execution_count": 2,
   "id": "b5afe919",
   "metadata": {},
   "outputs": [
    {
     "data": {
      "text/html": [
       "<div>\n",
       "<style scoped>\n",
       "    .dataframe tbody tr th:only-of-type {\n",
       "        vertical-align: middle;\n",
       "    }\n",
       "\n",
       "    .dataframe tbody tr th {\n",
       "        vertical-align: top;\n",
       "    }\n",
       "\n",
       "    .dataframe thead th {\n",
       "        text-align: right;\n",
       "    }\n",
       "</style>\n",
       "<table border=\"1\" class=\"dataframe\">\n",
       "  <thead>\n",
       "    <tr style=\"text-align: right;\">\n",
       "      <th></th>\n",
       "      <th>patient_id</th>\n",
       "      <th>description</th>\n",
       "      <th>triage_level</th>\n",
       "    </tr>\n",
       "  </thead>\n",
       "  <tbody>\n",
       "    <tr>\n",
       "      <th>0</th>\n",
       "      <td>P00001</td>\n",
       "      <td>Severe persistent trauma noted after a fall.</td>\n",
       "      <td>2</td>\n",
       "    </tr>\n",
       "    <tr>\n",
       "      <th>1</th>\n",
       "      <td>P00002</td>\n",
       "      <td>moderate seizure observed during daily activit...</td>\n",
       "      <td>2</td>\n",
       "    </tr>\n",
       "    <tr>\n",
       "      <th>2</th>\n",
       "      <td>P00003</td>\n",
       "      <td>mild shortness of breath was triggered by stre...</td>\n",
       "      <td>1</td>\n",
       "    </tr>\n",
       "    <tr>\n",
       "      <th>3</th>\n",
       "      <td>P00004</td>\n",
       "      <td>Mild mild sore throat reported with no other s...</td>\n",
       "      <td>4</td>\n",
       "    </tr>\n",
       "    <tr>\n",
       "      <th>4</th>\n",
       "      <td>P00005</td>\n",
       "      <td>Severe moderate chest pain noted after a fall.</td>\n",
       "      <td>1</td>\n",
       "    </tr>\n",
       "  </tbody>\n",
       "</table>\n",
       "</div>"
      ],
      "text/plain": [
       "  patient_id                                        description  triage_level\n",
       "0     P00001       Severe persistent trauma noted after a fall.             2\n",
       "1     P00002  moderate seizure observed during daily activit...             2\n",
       "2     P00003  mild shortness of breath was triggered by stre...             1\n",
       "3     P00004  Mild mild sore throat reported with no other s...             4\n",
       "4     P00005     Severe moderate chest pain noted after a fall.             1"
      ]
     },
     "execution_count": 2,
     "metadata": {},
     "output_type": "execute_result"
    }
   ],
   "source": [
    "csv_path = \"dummy_emergency_patients_flexible_5000.csv\"  \n",
    "df = pd.read_csv(csv_path)\n",
    "df.head()\n"
   ]
  },
  {
   "cell_type": "code",
   "execution_count": 3,
   "id": "734787b4",
   "metadata": {},
   "outputs": [
    {
     "name": "stdout",
     "output_type": "stream",
     "text": [
      "Duplicated description removed and shuffled\n"
     ]
    }
   ],
   "source": [
    "# remove duplicated description\n",
    "df_unique = df.drop_duplicates(subset=\"description\").reset_index(drop=True)\n",
    "\n",
    "# stratified split\n",
    "from sklearn.model_selection import train_test_split\n",
    "train_df, test_df = train_test_split(\n",
    "    df_unique, \n",
    "    test_size=0.2, \n",
    "    stratify=df_unique[\"triage_level\"], \n",
    "    random_state=42\n",
    ")\n",
    "\n",
    "# shuffle\n",
    "train_df = train_df.sample(frac=1, random_state=42).reset_index(drop=True)\n",
    "test_df = test_df.reset_index(drop=True)\n",
    "\n",
    "print(\"Duplicated description removed and shuffled\")\n"
   ]
  },
  {
   "cell_type": "code",
   "execution_count": 4,
   "id": "c749a4c8",
   "metadata": {},
   "outputs": [
    {
     "name": "stdout",
     "output_type": "stream",
     "text": [
      "📄 Original dataset size: 2500\n",
      "✅ After removing duplicates: 2500\n",
      "❌ Number of duplicate descriptions removed: 0\n"
     ]
    }
   ],
   "source": [
    "# Calculate how many rows were removed due to duplicate descriptions\n",
    "original_count = len(df)\n",
    "unique_count = len(df_unique)\n",
    "removed_count = original_count - unique_count\n",
    "\n",
    "print(f\"📄 Original dataset size: {original_count}\")\n",
    "print(f\"✅ After removing duplicates: {unique_count}\")\n",
    "print(f\"❌ Number of duplicate descriptions removed: {removed_count}\")\n"
   ]
  },
  {
   "cell_type": "code",
   "execution_count": 5,
   "id": "b6e66eb0",
   "metadata": {},
   "outputs": [
    {
     "name": "stderr",
     "output_type": "stream",
     "text": [
      "Map: 100%|██████████| 2000/2000 [00:00<00:00, 25000.55 examples/s]\n",
      "Map: 100%|██████████| 500/500 [00:00<00:00, 20834.22 examples/s]\n"
     ]
    }
   ],
   "source": [
    "from datasets import Dataset\n",
    "\n",
    "train_dataset = Dataset.from_pandas(train_df)\n",
    "test_dataset = Dataset.from_pandas(test_df)\n",
    "\n",
    "unique_labels = sorted(df_unique[\"triage_level\"].unique())\n",
    "label2id = {int(lvl): i for i, lvl in enumerate(unique_labels)}\n",
    "id2label = {i: str(lvl) for lvl, i in label2id.items()}\n",
    "\n",
    "train_dataset = train_dataset.map(lambda x: {\"label\": label2id[int(x[\"triage_level\"])]})\n",
    "test_dataset = test_dataset.map(lambda x: {\"label\": label2id[int(x[\"triage_level\"])]})\n"
   ]
  },
  {
   "cell_type": "code",
   "execution_count": 6,
   "id": "1091658a",
   "metadata": {},
   "outputs": [
    {
     "name": "stderr",
     "output_type": "stream",
     "text": [
      "c:\\Users\\HYUN\\anaconda3\\envs\\nlp-clean\\lib\\site-packages\\huggingface_hub\\file_download.py:943: FutureWarning: `resume_download` is deprecated and will be removed in version 1.0.0. Downloads always resume when possible. If you want to force a new download, use `force_download=True`.\n",
      "  warnings.warn(\n",
      "Map: 100%|██████████| 2000/2000 [00:00<00:00, 7490.78 examples/s]\n",
      "Map: 100%|██████████| 500/500 [00:00<00:00, 19232.69 examples/s]\n",
      "Some weights of BertForSequenceClassification were not initialized from the model checkpoint at emilyalsentzer/Bio_ClinicalBERT and are newly initialized: ['classifier.bias', 'classifier.weight']\n",
      "You should probably TRAIN this model on a down-stream task to be able to use it for predictions and inference.\n"
     ]
    }
   ],
   "source": [
    "model_name = \"emilyalsentzer/Bio_ClinicalBERT\"\n",
    "tokenizer = AutoTokenizer.from_pretrained(model_name)\n",
    "\n",
    "def tokenize_function(example):\n",
    "    return tokenizer(\n",
    "        example[\"description\"],\n",
    "        padding=\"max_length\",\n",
    "        truncation=True,\n",
    "        max_length=64\n",
    "    )\n",
    "\n",
    "train_dataset = train_dataset.map(tokenize_function, batched=True)\n",
    "test_dataset = test_dataset.map(tokenize_function, batched=True)\n",
    "\n",
    "model = AutoModelForSequenceClassification.from_pretrained(\n",
    "    model_name,\n",
    "    num_labels=5,\n",
    "    id2label=id2label,\n",
    "    label2id=label2id\n",
    ")\n"
   ]
  },
  {
   "cell_type": "code",
   "execution_count": null,
   "id": "f9eaa52c",
   "metadata": {},
   "outputs": [],
   "source": [
    "# training_args = TrainingArguments(\n",
    "#     output_dir=\"./results\",\n",
    "#     evaluation_strategy=\"epoch\",\n",
    "#     save_strategy=\"epoch\",\n",
    "#     learning_rate=5e-5,\n",
    "#     per_device_train_batch_size=16,\n",
    "#     per_device_eval_batch_size=16,\n",
    "#     num_train_epochs=15,\n",
    "#     weight_decay=0.01,\n",
    "#     logging_dir=\"./logs\",\n",
    "# )\n",
    "\n",
    "from transformers import TrainingArguments\n",
    "\n",
    "training_args = TrainingArguments(\n",
    "    output_dir=\"./results_no_save\",      # Output directory still needed\n",
    "    save_strategy=\"no\",                  # Do not save checkpoints\n",
    "    evaluation_strategy=\"epoch\",         # Keep evaluating (optional)\n",
    "    logging_strategy=\"epoch\",            # Keep logging (optional)\n",
    "    learning_rate=2e-5,\n",
    "    per_device_train_batch_size=8,\n",
    "    per_device_eval_batch_size=8,\n",
    "    num_train_epochs=10,\n",
    "    weight_decay=0.01,\n",
    "    logging_dir=\"./logs_no_save\",\n",
    "    logging_steps=999999\n",
    ")\n",
    "\n",
    "\n",
    "def compute_metrics(eval_pred):\n",
    "    logits, labels = eval_pred\n",
    "    preds = np.argmax(logits, axis=-1)\n",
    "    report = classification_report(labels, preds, output_dict=True)\n",
    "    return {\n",
    "        \"accuracy\": report[\"accuracy\"],\n",
    "        \"f1\": report[\"weighted avg\"][\"f1-score\"]\n",
    "    }\n",
    "\n",
    "data_collator = DataCollatorWithPadding(tokenizer=tokenizer)\n",
    "\n",
    "trainer = Trainer(\n",
    "    model=model,\n",
    "    args=training_args,\n",
    "    train_dataset=train_dataset,\n",
    "    eval_dataset=test_dataset,\n",
    "    compute_metrics=compute_metrics,\n",
    "    data_collator=data_collator\n",
    ")"
   ]
  },
  {
   "cell_type": "code",
   "execution_count": 8,
   "id": "028d87c0",
   "metadata": {},
   "outputs": [
    {
     "name": "stderr",
     "output_type": "stream",
     "text": [
      " 10%|█         | 250/2500 [00:28<04:48,  7.80it/s]"
     ]
    },
    {
     "name": "stdout",
     "output_type": "stream",
     "text": [
      "{'loss': 1.0686, 'grad_norm': 10.2164888381958, 'learning_rate': 1.8e-05, 'epoch': 1.0}\n"
     ]
    },
    {
     "name": "stderr",
     "output_type": "stream",
     "text": [
      "                                                  \n",
      " 10%|█         | 251/2500 [00:30<28:47,  1.30it/s]"
     ]
    },
    {
     "name": "stdout",
     "output_type": "stream",
     "text": [
      "{'eval_loss': 0.6020407676696777, 'eval_accuracy': 0.686, 'eval_f1': 0.6640002370472714, 'eval_runtime': 2.135, 'eval_samples_per_second': 234.192, 'eval_steps_per_second': 29.508, 'epoch': 1.0}\n"
     ]
    },
    {
     "name": "stderr",
     "output_type": "stream",
     "text": [
      " 20%|██        | 500/2500 [01:08<05:24,  6.17it/s]"
     ]
    },
    {
     "name": "stdout",
     "output_type": "stream",
     "text": [
      "{'loss': 0.5494, 'grad_norm': 7.391117095947266, 'learning_rate': 1.6000000000000003e-05, 'epoch': 2.0}\n"
     ]
    },
    {
     "name": "stderr",
     "output_type": "stream",
     "text": [
      "                                                  \n",
      " 20%|██        | 501/2500 [01:11<33:58,  1.02s/it]"
     ]
    },
    {
     "name": "stdout",
     "output_type": "stream",
     "text": [
      "{'eval_loss': 0.48940309882164, 'eval_accuracy': 0.728, 'eval_f1': 0.7301459723808361, 'eval_runtime': 2.853, 'eval_samples_per_second': 175.254, 'eval_steps_per_second': 22.082, 'epoch': 2.0}\n"
     ]
    },
    {
     "name": "stderr",
     "output_type": "stream",
     "text": [
      " 30%|███       | 750/2500 [01:48<04:08,  7.03it/s]"
     ]
    },
    {
     "name": "stdout",
     "output_type": "stream",
     "text": [
      "{'loss': 0.4617, 'grad_norm': 11.299903869628906, 'learning_rate': 1.4e-05, 'epoch': 3.0}\n"
     ]
    },
    {
     "name": "stderr",
     "output_type": "stream",
     "text": [
      "                                                  \n",
      " 30%|███       | 751/2500 [01:51<26:44,  1.09it/s]"
     ]
    },
    {
     "name": "stdout",
     "output_type": "stream",
     "text": [
      "{'eval_loss': 0.47278881072998047, 'eval_accuracy': 0.728, 'eval_f1': 0.7262062675824084, 'eval_runtime': 2.576, 'eval_samples_per_second': 194.099, 'eval_steps_per_second': 24.457, 'epoch': 3.0}\n"
     ]
    },
    {
     "name": "stderr",
     "output_type": "stream",
     "text": [
      " 40%|████      | 1000/2500 [02:26<03:29,  7.17it/s]"
     ]
    },
    {
     "name": "stdout",
     "output_type": "stream",
     "text": [
      "{'loss': 0.4209, 'grad_norm': 5.634708404541016, 'learning_rate': 1.2e-05, 'epoch': 4.0}\n"
     ]
    },
    {
     "name": "stderr",
     "output_type": "stream",
     "text": [
      "                                                   \n",
      " 40%|████      | 1001/2500 [02:29<23:30,  1.06it/s]"
     ]
    },
    {
     "name": "stdout",
     "output_type": "stream",
     "text": [
      "{'eval_loss': 0.5272379517555237, 'eval_accuracy': 0.73, 'eval_f1': 0.7274191115739151, 'eval_runtime': 2.666, 'eval_samples_per_second': 187.547, 'eval_steps_per_second': 23.631, 'epoch': 4.0}\n"
     ]
    },
    {
     "name": "stderr",
     "output_type": "stream",
     "text": [
      " 50%|█████     | 1250/2500 [03:04<02:46,  7.51it/s]"
     ]
    },
    {
     "name": "stdout",
     "output_type": "stream",
     "text": [
      "{'loss': 0.3919, 'grad_norm': 4.804437160491943, 'learning_rate': 1e-05, 'epoch': 5.0}\n"
     ]
    },
    {
     "name": "stderr",
     "output_type": "stream",
     "text": [
      "                                                   \n",
      " 50%|█████     | 1251/2500 [03:07<18:58,  1.10it/s]"
     ]
    },
    {
     "name": "stdout",
     "output_type": "stream",
     "text": [
      "{'eval_loss': 0.5669939517974854, 'eval_accuracy': 0.71, 'eval_f1': 0.707186211591758, 'eval_runtime': 2.583, 'eval_samples_per_second': 193.573, 'eval_steps_per_second': 24.39, 'epoch': 5.0}\n"
     ]
    },
    {
     "name": "stderr",
     "output_type": "stream",
     "text": [
      " 60%|██████    | 1500/2500 [03:42<02:25,  6.86it/s]"
     ]
    },
    {
     "name": "stdout",
     "output_type": "stream",
     "text": [
      "{'loss': 0.3776, 'grad_norm': 11.64497184753418, 'learning_rate': 8.000000000000001e-06, 'epoch': 6.0}\n"
     ]
    },
    {
     "name": "stderr",
     "output_type": "stream",
     "text": [
      "                                                   \n",
      " 60%|██████    | 1501/2500 [03:45<15:15,  1.09it/s]"
     ]
    },
    {
     "name": "stdout",
     "output_type": "stream",
     "text": [
      "{'eval_loss': 0.6157242655754089, 'eval_accuracy': 0.718, 'eval_f1': 0.7155889442302782, 'eval_runtime': 2.565, 'eval_samples_per_second': 194.932, 'eval_steps_per_second': 24.561, 'epoch': 6.0}\n"
     ]
    },
    {
     "name": "stderr",
     "output_type": "stream",
     "text": [
      " 70%|███████   | 1750/2500 [04:20<01:45,  7.14it/s]"
     ]
    },
    {
     "name": "stdout",
     "output_type": "stream",
     "text": [
      "{'loss': 0.3463, 'grad_norm': 4.23575496673584, 'learning_rate': 6e-06, 'epoch': 7.0}\n"
     ]
    },
    {
     "name": "stderr",
     "output_type": "stream",
     "text": [
      "                                                   \n",
      " 70%|███████   | 1751/2500 [04:23<11:07,  1.12it/s]"
     ]
    },
    {
     "name": "stdout",
     "output_type": "stream",
     "text": [
      "{'eval_loss': 0.5940455198287964, 'eval_accuracy': 0.742, 'eval_f1': 0.7416943921306118, 'eval_runtime': 2.492, 'eval_samples_per_second': 200.642, 'eval_steps_per_second': 25.281, 'epoch': 7.0}\n"
     ]
    },
    {
     "name": "stderr",
     "output_type": "stream",
     "text": [
      " 80%|████████  | 2000/2500 [04:58<01:11,  7.00it/s]"
     ]
    },
    {
     "name": "stdout",
     "output_type": "stream",
     "text": [
      "{'loss': 0.3186, 'grad_norm': 12.66674518585205, 'learning_rate': 4.000000000000001e-06, 'epoch': 8.0}\n"
     ]
    },
    {
     "name": "stderr",
     "output_type": "stream",
     "text": [
      "                                                   \n",
      " 80%|████████  | 2001/2500 [05:01<07:37,  1.09it/s]"
     ]
    },
    {
     "name": "stdout",
     "output_type": "stream",
     "text": [
      "{'eval_loss': 0.6434769630432129, 'eval_accuracy': 0.744, 'eval_f1': 0.7444348685927117, 'eval_runtime': 2.564, 'eval_samples_per_second': 195.008, 'eval_steps_per_second': 24.571, 'epoch': 8.0}\n"
     ]
    },
    {
     "name": "stderr",
     "output_type": "stream",
     "text": [
      " 90%|█████████ | 2250/2500 [05:37<00:35,  7.08it/s]"
     ]
    },
    {
     "name": "stdout",
     "output_type": "stream",
     "text": [
      "{'loss': 0.2846, 'grad_norm': 6.917111873626709, 'learning_rate': 2.0000000000000003e-06, 'epoch': 9.0}\n"
     ]
    },
    {
     "name": "stderr",
     "output_type": "stream",
     "text": [
      "                                                   \n",
      " 90%|█████████ | 2251/2500 [05:39<03:44,  1.11it/s]"
     ]
    },
    {
     "name": "stdout",
     "output_type": "stream",
     "text": [
      "{'eval_loss': 0.7222027778625488, 'eval_accuracy': 0.72, 'eval_f1': 0.7189513986188824, 'eval_runtime': 2.521, 'eval_samples_per_second': 198.334, 'eval_steps_per_second': 24.99, 'epoch': 9.0}\n"
     ]
    },
    {
     "name": "stderr",
     "output_type": "stream",
     "text": [
      "100%|██████████| 2500/2500 [06:15<00:00,  7.31it/s]"
     ]
    },
    {
     "name": "stdout",
     "output_type": "stream",
     "text": [
      "{'loss': 0.2648, 'grad_norm': 4.993873596191406, 'learning_rate': 0.0, 'epoch': 10.0}\n"
     ]
    },
    {
     "name": "stderr",
     "output_type": "stream",
     "text": [
      "                                                   \n",
      "100%|██████████| 2500/2500 [06:18<00:00,  6.61it/s]"
     ]
    },
    {
     "name": "stdout",
     "output_type": "stream",
     "text": [
      "{'eval_loss': 0.7575877904891968, 'eval_accuracy': 0.73, 'eval_f1': 0.7298930456050454, 'eval_runtime': 2.555, 'eval_samples_per_second': 195.695, 'eval_steps_per_second': 24.658, 'epoch': 10.0}\n",
      "{'train_runtime': 378.156, 'train_samples_per_second': 52.888, 'train_steps_per_second': 6.611, 'train_loss': 0.44843736572265624, 'epoch': 10.0}\n"
     ]
    },
    {
     "name": "stderr",
     "output_type": "stream",
     "text": [
      "\n"
     ]
    },
    {
     "data": {
      "text/plain": [
       "TrainOutput(global_step=2500, training_loss=0.44843736572265624, metrics={'train_runtime': 378.156, 'train_samples_per_second': 52.888, 'train_steps_per_second': 6.611, 'train_loss': 0.44843736572265624, 'epoch': 10.0})"
      ]
     },
     "execution_count": 8,
     "metadata": {},
     "output_type": "execute_result"
    }
   ],
   "source": [
    "trainer.train()"
   ]
  },
  {
   "cell_type": "code",
   "execution_count": 9,
   "id": "5124b990",
   "metadata": {},
   "outputs": [
    {
     "name": "stderr",
     "output_type": "stream",
     "text": [
      "100%|██████████| 63/63 [00:02<00:00, 24.52it/s]"
     ]
    },
    {
     "name": "stdout",
     "output_type": "stream",
     "text": [
      "✅ Saved evaluation_metrics.json\n"
     ]
    },
    {
     "name": "stderr",
     "output_type": "stream",
     "text": [
      "\n"
     ]
    }
   ],
   "source": [
    "from sklearn.metrics import (\n",
    "    classification_report,\n",
    "    confusion_matrix,\n",
    "    accuracy_score,\n",
    "    precision_score,\n",
    "    recall_score,\n",
    "    roc_auc_score,\n",
    "    roc_curve,\n",
    "    auc\n",
    ")\n",
    "from sklearn.preprocessing import label_binarize\n",
    "\n",
    "# Predict\n",
    "preds_output = trainer.predict(test_dataset)\n",
    "preds = np.argmax(preds_output.predictions, axis=1)\n",
    "true = preds_output.label_ids\n",
    "\n",
    "# Label names\n",
    "labels = [f\"Level {id2label[i]}\" for i in range(5)]\n",
    "report = classification_report(true, preds, target_names=labels, output_dict=True)\n",
    "cm = confusion_matrix(true, preds)\n",
    "\n",
    "# Core metrics\n",
    "accuracy = accuracy_score(true, preds)\n",
    "precision = precision_score(true, preds, average=\"macro\")\n",
    "recall = recall_score(true, preds, average=\"macro\")\n",
    "f1 = report[\"weighted avg\"][\"f1-score\"]\n",
    "\n",
    "# ROC-AUC\n",
    "true_binarized = label_binarize(true, classes=list(range(5)))\n",
    "preds_binarized = label_binarize(preds, classes=list(range(5)))\n",
    "roc_auc = roc_auc_score(true_binarized, preds_binarized, average=\"macro\", multi_class=\"ovr\")\n",
    "\n",
    "# Hyperparameters to record\n",
    "experiment_config = {\n",
    "    \"model_name\": model_name,\n",
    "    \"learning_rate\": training_args.learning_rate,\n",
    "    \"train_batch_size\": training_args.per_device_train_batch_size,\n",
    "    \"eval_batch_size\": training_args.per_device_eval_batch_size,\n",
    "    \"num_epochs\": training_args.num_train_epochs\n",
    "}\n",
    "\n",
    "# Add all results to JSON\n",
    "report[\"overall\"] = {\n",
    "    \"accuracy\": accuracy,\n",
    "    \"macro_precision\": precision,\n",
    "    \"macro_recall\": recall,\n",
    "    \"f1_score\": f1,\n",
    "    \"roc_auc_macro\": roc_auc\n",
    "}\n",
    "report[\"config\"] = experiment_config\n",
    "\n",
    "# Save as JSON\n",
    "os.makedirs(\"./output\", exist_ok=True)\n",
    "with open(\"./output/evaluation_metrics.json\", \"w\") as f:\n",
    "    json.dump(report, f, indent=4)\n",
    "print(\"✅ Saved evaluation_metrics.json\")\n"
   ]
  },
  {
   "cell_type": "code",
   "execution_count": 10,
   "id": "7db844d1",
   "metadata": {},
   "outputs": [
    {
     "data": {
      "image/png": "[encoded data removed]",
      "text/plain": [
       "<Figure size 800x700 with 2 Axes>"
      ]
     },
     "metadata": {},
     "output_type": "display_data"
    }
   ],
   "source": [
    "# Plot confusion matrix\n",
    "plt.figure(figsize=(8, 7))\n",
    "sns.heatmap(cm, annot=True, fmt=\"d\", cmap=\"Blues\", xticklabels=labels, yticklabels=labels)\n",
    "plt.title(\"Confusion Matrix\")\n",
    "plt.xlabel(\"Predicted\")\n",
    "plt.ylabel(\"Actual\")\n",
    "plt.tight_layout()\n",
    "plt.savefig(\"./output/confusion_matrix.png\")\n",
    "plt.show()"
   ]
  },
  {
   "cell_type": "code",
   "execution_count": 11,
   "id": "4a88acb6",
   "metadata": {},
   "outputs": [
    {
     "name": "stdout",
     "output_type": "stream",
     "text": [
      "\n",
      "Experiment Configuration:\n",
      "\n",
      "          model_name: emilyalsentzer/Bio_ClinicalBERT\n",
      "       learning_rate: 2e-05\n",
      "    train_batch_size: 8\n",
      "     eval_batch_size: 8\n",
      "          num_epochs: 10\n",
      "\n",
      "Model Evaluation Summary:\n",
      "\n",
      "            accuracy: 0.7300\n",
      "     macro_precision: 0.7245\n",
      "        macro_recall: 0.7253\n",
      "            f1_score: 0.7299\n",
      "       roc_auc_macro: 0.8283\n"
     ]
    }
   ],
   "source": [
    "print(\"\\nExperiment Configuration:\\n\")\n",
    "for key, value in report[\"config\"].items():\n",
    "    print(f\"{key:>20}: {value}\")\n",
    "\n",
    "print(\"\\nModel Evaluation Summary:\\n\")\n",
    "overall = report[\"overall\"]\n",
    "for metric, value in overall.items():\n",
    "    print(f\"{metric:>20}: {value:.4f}\")"
   ]
  },
  {
   "cell_type": "code",
   "execution_count": 12,
   "id": "482179f7",
   "metadata": {},
   "outputs": [],
   "source": [
    "# model.save_pretrained(\"./saved_model\")\n",
    "# tokenizer.save_pretrained(\"./saved_tokenizer\")\n"
   ]
  },
  {
   "cell_type": "code",
   "execution_count": 13,
   "id": "b7bd1893",
   "metadata": {},
   "outputs": [
    {
     "data": {
      "image/png": "[encoded data removed]",
      "text/plain": [
       "<Figure size 800x600 with 1 Axes>"
      ]
     },
     "metadata": {},
     "output_type": "display_data"
    }
   ],
   "source": [
    "fpr, tpr, roc_auc_curve = {}, {}, {}\n",
    "\n",
    "for i in range(5):\n",
    "    fpr[i], tpr[i], _ = roc_curve(true_binarized[:, i], preds_binarized[:, i])\n",
    "    roc_auc_curve[i] = auc(fpr[i], tpr[i])\n",
    "\n",
    "plt.figure(figsize=(8, 6))\n",
    "for i in range(5):\n",
    "    plt.plot(fpr[i], tpr[i], label=f\"Level {id2label[i]} (AUC = {roc_auc_curve[i]:.2f})\")\n",
    "plt.plot([0, 1], [0, 1], 'k--', label=\"Chance\")\n",
    "plt.title(\"ROC Curves by Triage Level\")\n",
    "plt.xlabel(\"False Positive Rate\")\n",
    "plt.ylabel(\"True Positive Rate\")\n",
    "plt.legend(loc=\"lower right\")\n",
    "plt.grid(True)\n",
    "plt.tight_layout()\n",
    "plt.savefig(\"./output/roc_curves.png\")\n",
    "plt.show()\n"
   ]
  },
  {
   "cell_type": "code",
   "execution_count": 14,
   "id": "fc8db97a",
   "metadata": {},
   "outputs": [
    {
     "name": "stdout",
     "output_type": "stream",
     "text": [
      "🚨 amount of duplicated description: 0\n"
     ]
    }
   ],
   "source": [
    "intersection = set(train_df['description']).intersection(set(test_df['description']))\n",
    "print(\"🚨 amount of duplicated description:\", len(intersection))\n"
   ]
  },
  {
   "cell_type": "code",
   "execution_count": 15,
   "id": "0ce601c4",
   "metadata": {},
   "outputs": [
    {
     "name": "stdout",
     "output_type": "stream",
     "text": [
      "📊 Label distribution in training set:\n",
      "triage_level\n",
      "1    374\n",
      "2    434\n",
      "3    467\n",
      "4    513\n",
      "5    212\n",
      "Name: count, dtype: int64 \n",
      "\n",
      "📊 Label distribution in test set:\n",
      "triage_level\n",
      "1     93\n",
      "2    108\n",
      "3    117\n",
      "4    129\n",
      "5     53\n",
      "Name: count, dtype: int64 \n",
      "\n"
     ]
    },
    {
     "name": "stderr",
     "output_type": "stream",
     "text": [
      "100%|██████████| 63/63 [00:02<00:00, 28.68it/s]\n"
     ]
    },
    {
     "name": "stdout",
     "output_type": "stream",
     "text": [
      "📈 Classification Report:\n",
      "\n",
      "              precision    recall  f1-score   support\n",
      "\n",
      "     Level 1       0.80      0.81      0.80        93\n",
      "     Level 2       0.74      0.69      0.72       108\n",
      "     Level 3       0.71      0.75      0.73       117\n",
      "     Level 4       0.72      0.71      0.72       129\n",
      "     Level 5       0.65      0.66      0.65        53\n",
      "\n",
      "    accuracy                           0.73       500\n",
      "   macro avg       0.72      0.73      0.72       500\n",
      "weighted avg       0.73      0.73      0.73       500\n",
      "\n"
     ]
    },
    {
     "data": {
      "image/png": "[encoded data removed]",
      "text/plain": [
       "<Figure size 600x600 with 2 Axes>"
      ]
     },
     "metadata": {},
     "output_type": "display_data"
    },
    {
     "name": "stdout",
     "output_type": "stream",
     "text": [
      "\n",
      "❌ Top 10 Incorrect Predictions:\n"
     ]
    },
    {
     "data": {
      "text/html": [
       "<div>\n",
       "<style scoped>\n",
       "    .dataframe tbody tr th:only-of-type {\n",
       "        vertical-align: middle;\n",
       "    }\n",
       "\n",
       "    .dataframe tbody tr th {\n",
       "        vertical-align: top;\n",
       "    }\n",
       "\n",
       "    .dataframe thead th {\n",
       "        text-align: right;\n",
       "    }\n",
       "</style>\n",
       "<table border=\"1\" class=\"dataframe\">\n",
       "  <thead>\n",
       "    <tr style=\"text-align: right;\">\n",
       "      <th></th>\n",
       "      <th>description</th>\n",
       "      <th>true_label</th>\n",
       "      <th>predicted_label</th>\n",
       "      <th>confidence</th>\n",
       "    </tr>\n",
       "  </thead>\n",
       "  <tbody>\n",
       "    <tr>\n",
       "      <th>3</th>\n",
       "      <td>Patient reports persistent skin rash after exe...</td>\n",
       "      <td>5</td>\n",
       "      <td>4</td>\n",
       "      <td>4.683367</td>\n",
       "    </tr>\n",
       "    <tr>\n",
       "      <th>6</th>\n",
       "      <td>mild nausea occurred with vomiting and nausea.</td>\n",
       "      <td>3</td>\n",
       "      <td>4</td>\n",
       "      <td>3.583900</td>\n",
       "    </tr>\n",
       "    <tr>\n",
       "      <th>7</th>\n",
       "      <td>persistent headache was triggered by stress at...</td>\n",
       "      <td>4</td>\n",
       "      <td>3</td>\n",
       "      <td>4.058009</td>\n",
       "    </tr>\n",
       "    <tr>\n",
       "      <th>12</th>\n",
       "      <td>intermittent headache started during the night...</td>\n",
       "      <td>4</td>\n",
       "      <td>3</td>\n",
       "      <td>3.653022</td>\n",
       "    </tr>\n",
       "    <tr>\n",
       "      <th>15</th>\n",
       "      <td>Complaint of persistent trauma after exposure ...</td>\n",
       "      <td>1</td>\n",
       "      <td>2</td>\n",
       "      <td>4.410583</td>\n",
       "    </tr>\n",
       "    <tr>\n",
       "      <th>18</th>\n",
       "      <td>Symptoms started with severe abdominal pain an...</td>\n",
       "      <td>4</td>\n",
       "      <td>3</td>\n",
       "      <td>3.147736</td>\n",
       "    </tr>\n",
       "    <tr>\n",
       "      <th>22</th>\n",
       "      <td>mild abdominal pain and dizziness reported tog...</td>\n",
       "      <td>3</td>\n",
       "      <td>4</td>\n",
       "      <td>3.299103</td>\n",
       "    </tr>\n",
       "    <tr>\n",
       "      <th>23</th>\n",
       "      <td>severe trauma following long travel.</td>\n",
       "      <td>2</td>\n",
       "      <td>1</td>\n",
       "      <td>4.406334</td>\n",
       "    </tr>\n",
       "    <tr>\n",
       "      <th>26</th>\n",
       "      <td>mild dizziness has interfered with appetite.</td>\n",
       "      <td>3</td>\n",
       "      <td>4</td>\n",
       "      <td>3.820187</td>\n",
       "    </tr>\n",
       "    <tr>\n",
       "      <th>28</th>\n",
       "      <td>severe sore throat has interfered with appetite.</td>\n",
       "      <td>5</td>\n",
       "      <td>4</td>\n",
       "      <td>4.233148</td>\n",
       "    </tr>\n",
       "  </tbody>\n",
       "</table>\n",
       "</div>"
      ],
      "text/plain": [
       "                                          description true_label  \\\n",
       "3   Patient reports persistent skin rash after exe...          5   \n",
       "6      mild nausea occurred with vomiting and nausea.          3   \n",
       "7   persistent headache was triggered by stress at...          4   \n",
       "12  intermittent headache started during the night...          4   \n",
       "15  Complaint of persistent trauma after exposure ...          1   \n",
       "18  Symptoms started with severe abdominal pain an...          4   \n",
       "22  mild abdominal pain and dizziness reported tog...          3   \n",
       "23               severe trauma following long travel.          2   \n",
       "26       mild dizziness has interfered with appetite.          3   \n",
       "28   severe sore throat has interfered with appetite.          5   \n",
       "\n",
       "   predicted_label  confidence  \n",
       "3                4    4.683367  \n",
       "6                4    3.583900  \n",
       "7                3    4.058009  \n",
       "12               3    3.653022  \n",
       "15               2    4.410583  \n",
       "18               3    3.147736  \n",
       "22               4    3.299103  \n",
       "23               1    4.406334  \n",
       "26               4    3.820187  \n",
       "28               4    4.233148  "
      ]
     },
     "metadata": {},
     "output_type": "display_data"
    },
    {
     "name": "stdout",
     "output_type": "stream",
     "text": [
      "\n",
      "🔍 Avg Confidence per True Class:\n",
      "label\n",
      "0    5.411884\n",
      "1    4.847410\n",
      "2    4.825160\n",
      "3    4.489443\n",
      "4    4.510296\n",
      "Name: confidence, dtype: float32\n",
      "\n",
      "🔁 Raw Confusion Matrix:\n"
     ]
    },
    {
     "data": {
      "text/html": [
       "<div>\n",
       "<style scoped>\n",
       "    .dataframe tbody tr th:only-of-type {\n",
       "        vertical-align: middle;\n",
       "    }\n",
       "\n",
       "    .dataframe tbody tr th {\n",
       "        vertical-align: top;\n",
       "    }\n",
       "\n",
       "    .dataframe thead th {\n",
       "        text-align: right;\n",
       "    }\n",
       "</style>\n",
       "<table border=\"1\" class=\"dataframe\">\n",
       "  <thead>\n",
       "    <tr style=\"text-align: right;\">\n",
       "      <th></th>\n",
       "      <th>Pred_1</th>\n",
       "      <th>Pred_2</th>\n",
       "      <th>Pred_3</th>\n",
       "      <th>Pred_4</th>\n",
       "      <th>Pred_5</th>\n",
       "    </tr>\n",
       "  </thead>\n",
       "  <tbody>\n",
       "    <tr>\n",
       "      <th>True_1</th>\n",
       "      <td>75</td>\n",
       "      <td>18</td>\n",
       "      <td>0</td>\n",
       "      <td>0</td>\n",
       "      <td>0</td>\n",
       "    </tr>\n",
       "    <tr>\n",
       "      <th>True_2</th>\n",
       "      <td>19</td>\n",
       "      <td>75</td>\n",
       "      <td>12</td>\n",
       "      <td>2</td>\n",
       "      <td>0</td>\n",
       "    </tr>\n",
       "    <tr>\n",
       "      <th>True_3</th>\n",
       "      <td>0</td>\n",
       "      <td>4</td>\n",
       "      <td>88</td>\n",
       "      <td>20</td>\n",
       "      <td>5</td>\n",
       "    </tr>\n",
       "    <tr>\n",
       "      <th>True_4</th>\n",
       "      <td>0</td>\n",
       "      <td>4</td>\n",
       "      <td>19</td>\n",
       "      <td>92</td>\n",
       "      <td>14</td>\n",
       "    </tr>\n",
       "    <tr>\n",
       "      <th>True_5</th>\n",
       "      <td>0</td>\n",
       "      <td>0</td>\n",
       "      <td>5</td>\n",
       "      <td>13</td>\n",
       "      <td>35</td>\n",
       "    </tr>\n",
       "  </tbody>\n",
       "</table>\n",
       "</div>"
      ],
      "text/plain": [
       "        Pred_1  Pred_2  Pred_3  Pred_4  Pred_5\n",
       "True_1      75      18       0       0       0\n",
       "True_2      19      75      12       2       0\n",
       "True_3       0       4      88      20       5\n",
       "True_4       0       4      19      92      14\n",
       "True_5       0       0       5      13      35"
      ]
     },
     "metadata": {},
     "output_type": "display_data"
    }
   ],
   "source": [
    "import pandas as pd\n",
    "import numpy as np\n",
    "from sklearn.metrics import classification_report, confusion_matrix\n",
    "import matplotlib.pyplot as plt\n",
    "import seaborn as sns\n",
    "\n",
    "# 1. Check label distribution in train/test\n",
    "print(\"📊 Label distribution in training set:\")\n",
    "print(train_df[\"triage_level\"].value_counts().sort_index(), \"\\n\")\n",
    "\n",
    "print(\"📊 Label distribution in test set:\")\n",
    "print(test_df[\"triage_level\"].value_counts().sort_index(), \"\\n\")\n",
    "\n",
    "# 2. Get predictions and labels\n",
    "preds_output = trainer.predict(test_dataset)\n",
    "preds = np.argmax(preds_output.predictions, axis=1)\n",
    "true = preds_output.label_ids\n",
    "probs = np.max(preds_output.predictions, axis=1)\n",
    "\n",
    "# 3. Classification report\n",
    "print(\"📈 Classification Report:\\n\")\n",
    "print(classification_report(true, preds, target_names=[f\"Level {id2label[i]}\" for i in range(5)]))\n",
    "\n",
    "# 4. Confusion matrix\n",
    "cm = confusion_matrix(true, preds)\n",
    "plt.figure(figsize=(6, 6))\n",
    "sns.heatmap(cm, annot=True, fmt=\"d\", cmap=\"Blues\", \n",
    "            xticklabels=[f\"Lvl {id2label[i]}\" for i in range(5)],\n",
    "            yticklabels=[f\"Lvl {id2label[i]}\" for i in range(5)])\n",
    "plt.title(\"Confusion Matrix\")\n",
    "plt.xlabel(\"Predicted\")\n",
    "plt.ylabel(\"Actual\")\n",
    "plt.tight_layout()\n",
    "plt.show()\n",
    "\n",
    "# 5. Analyze incorrect predictions\n",
    "wrong_mask = preds != true\n",
    "wrong_examples = test_df.iloc[wrong_mask]\n",
    "wrong_examples = wrong_examples.copy()\n",
    "wrong_examples[\"true_label\"] = [id2label[i] for i in true[wrong_mask]]\n",
    "wrong_examples[\"predicted_label\"] = [id2label[i] for i in preds[wrong_mask]]\n",
    "wrong_examples[\"confidence\"] = probs[wrong_mask]\n",
    "\n",
    "print(\"\\n❌ Top 10 Incorrect Predictions:\")\n",
    "display(wrong_examples[[\"description\", \"true_label\", \"predicted_label\", \"confidence\"]].head(10))\n",
    "\n",
    "# 6. Average prediction confidence per class\n",
    "conf_df = pd.DataFrame({\"label\": true, \"pred\": preds, \"confidence\": probs})\n",
    "print(\"\\n🔍 Avg Confidence per True Class:\")\n",
    "print(conf_df.groupby(\"label\")[\"confidence\"].mean())\n",
    "\n",
    "# 7. (Optional) Show most confusing class pairs\n",
    "cm_df = pd.DataFrame(cm, columns=[f\"Pred_{id2label[i]}\" for i in range(5)],\n",
    "                        index=[f\"True_{id2label[i]}\" for i in range(5)])\n",
    "print(\"\\n🔁 Raw Confusion Matrix:\")\n",
    "display(cm_df)\n"
   ]
  }
 ],
 "metadata": {
  "kernelspec": {
   "display_name": "nlp-clean",
   "language": "python",
   "name": "python3"
  },
  "language_info": {
   "codemirror_mode": {
    "name": "ipython",
    "version": 3
   },
   "file_extension": ".py",
   "mimetype": "text/x-python",
   "name": "python",
   "nbconvert_exporter": "python",
   "pygments_lexer": "ipython3",
   "version": "3.10.16"
  }
 },
 "nbformat": 4,
 "nbformat_minor": 5
}
