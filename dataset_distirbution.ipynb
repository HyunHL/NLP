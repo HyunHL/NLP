{
 "cells": [
  {
   "cell_type": "code",
   "execution_count": null,
   "id": "48cacfd3",
   "metadata": {},
   "outputs": [],
   "source": [
    "# 1. Import libraries\n",
    "import pandas as pd\n",
    "import matplotlib.pyplot as plt\n",
    "import seaborn as sns\n",
    "\n",
    "# 2. Load the CSV file\n",
    "csv_path = r\"D:\\NLP\\dummy_emergency_patients_flexible_2500.csv\"\n",
    "df = pd.read_csv(csv_path)\n",
    "\n",
    "# 3. Count the distribution of triage levels\n",
    "label_counts = df['triage_level'].value_counts().sort_index()\n",
    "\n",
    "# 4. Create a bar chart\n",
    "plt.figure(figsize=(8, 6))\n",
    "sns.barplot(x=label_counts.index, y=label_counts.values, palette=\"Blues_d\")\n",
    "\n",
    "# 5. Set labels and title\n",
    "plt.title(\"Distribution of Triage Levels\", fontsize=14)\n",
    "plt.xlabel(\"Triage Level\", fontsize=12)\n",
    "plt.ylabel(\"Count\", fontsize=12)\n",
    "plt.xticks(ticks=range(len(label_counts)), labels=[f\"Level {i}\" for i in label_counts.index])\n",
    "plt.grid(axis='y', linestyle='--', alpha=0.7)\n",
    "plt.tight_layout()\n",
    "\n",
    "# 6. Display the\n"
   ]
  }
 ],
 "metadata": {
  "language_info": {
   "name": "python"
  }
 },
 "nbformat": 4,
 "nbformat_minor": 5
}
